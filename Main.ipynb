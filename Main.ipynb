{
  "nbformat": 4,
  "nbformat_minor": 0,
  "metadata": {
    "colab": {
      "provenance": [],
      "toc_visible": true,
      "mount_file_id": "1S8IGMmvGQ87fjGBqGpZR3MROWewDWuZX",
      "authorship_tag": "ABX9TyOrzUrMj16woPVEsPLgU+2y",
      "include_colab_link": true
    },
    "kernelspec": {
      "name": "python3",
      "display_name": "Python 3"
    },
    "language_info": {
      "name": "python"
    }
  },
  "cells": [
    {
      "cell_type": "markdown",
      "metadata": {
        "id": "view-in-github",
        "colab_type": "text"
      },
      "source": [
        "<a href=\"https://colab.research.google.com/github/MrHidr/AUT.CDM.matrix-accelerated-fpm/blob/main/Main.ipynb\" target=\"_parent\"><img src=\"https://colab.research.google.com/assets/colab-badge.svg\" alt=\"Open In Colab\"/></a>"
      ]
    },
    {
      "cell_type": "markdown",
      "source": [
        " >**Project\n",
        "information**  =>  **SN**: *404112060*  |  **SName**: *Mahdi Heydari*  |  CDM Course | Project 1 | Oct 2025"
      ],
      "metadata": {
        "id": "y2Jrwr3qGLR_"
      }
    },
    {
      "cell_type": "markdown",
      "source": [
        "# A Survey of Matrix Monitoring Methods for Accelerating Frequent Pattern Mining Algorithms | First project of Computational Data Mining Course\n",
        "\n",
        "## summary\n",
        "[[will be added]]"
      ],
      "metadata": {
        "id": "DuEmM4DcEpjR"
      }
    },
    {
      "cell_type": "markdown",
      "source": [
        "# Step1: Fetching & Cleaning Data"
      ],
      "metadata": {
        "id": "HKzNCrabEtHc"
      }
    },
    {
      "cell_type": "markdown",
      "source": [
        "### Installing Required Packages\n",
        "ucimlrepo package : fetching dataset from UCI (UC Irvine Machine Learning Repository)\n",
        "\n",
        "pandas : dataframe control\n"
      ],
      "metadata": {
        "id": "lxy4drrh74rb"
      }
    },
    {
      "cell_type": "code",
      "source": [
        "!pip install ucimlrepo"
      ],
      "metadata": {
        "colab": {
          "base_uri": "https://localhost:8080/"
        },
        "id": "rU4rwNlv74Ag",
        "outputId": "834531ac-5380-4464-dc0e-9c2bd62a146d"
      },
      "execution_count": 27,
      "outputs": [
        {
          "output_type": "stream",
          "name": "stdout",
          "text": [
            "Requirement already satisfied: ucimlrepo in /usr/local/lib/python3.12/dist-packages (0.0.7)\n",
            "Requirement already satisfied: pandas>=1.0.0 in /usr/local/lib/python3.12/dist-packages (from ucimlrepo) (2.2.2)\n",
            "Requirement already satisfied: certifi>=2020.12.5 in /usr/local/lib/python3.12/dist-packages (from ucimlrepo) (2025.10.5)\n",
            "Requirement already satisfied: numpy>=1.26.0 in /usr/local/lib/python3.12/dist-packages (from pandas>=1.0.0->ucimlrepo) (2.0.2)\n",
            "Requirement already satisfied: python-dateutil>=2.8.2 in /usr/local/lib/python3.12/dist-packages (from pandas>=1.0.0->ucimlrepo) (2.9.0.post0)\n",
            "Requirement already satisfied: pytz>=2020.1 in /usr/local/lib/python3.12/dist-packages (from pandas>=1.0.0->ucimlrepo) (2025.2)\n",
            "Requirement already satisfied: tzdata>=2022.7 in /usr/local/lib/python3.12/dist-packages (from pandas>=1.0.0->ucimlrepo) (2025.2)\n",
            "Requirement already satisfied: six>=1.5 in /usr/local/lib/python3.12/dist-packages (from python-dateutil>=2.8.2->pandas>=1.0.0->ucimlrepo) (1.17.0)\n"
          ]
        }
      ]
    },
    {
      "cell_type": "code",
      "source": [
        "#importing packages according to \"all steps\"\n",
        "from ucimlrepo import fetch_ucirepo\n",
        "import pandas as pd\n",
        "import numpy as np\n",
        "import time"
      ],
      "metadata": {
        "id": "wWcdHRk08M6y"
      },
      "execution_count": 28,
      "outputs": []
    },
    {
      "cell_type": "markdown",
      "source": [
        "### Fetching Online Retail Dataset from UCI\n",
        "Documentation of UCI repo for fetch and using dataset: https://github.com/uci-ml-repo/ucimlrepo"
      ],
      "metadata": {
        "id": "msfqoL4m7Kps"
      }
    },
    {
      "cell_type": "code",
      "source": [
        "online_retail = fetch_ucirepo(id=352)"
      ],
      "metadata": {
        "id": "fVWfHnYI7HKV"
      },
      "execution_count": 29,
      "outputs": []
    },
    {
      "cell_type": "code",
      "source": [
        "# data (as pandas dataframes)\n",
        "X = online_retail.data.features\n",
        "I = online_retail.data.ids\n",
        "df = pd.concat([I, X], axis=1)\n",
        "print(\"fetched dataset 5 rows as sample:\\n\", df.head(5))\n",
        "print(\"\\n\",\"=\"*30,\"\\n\")\n",
        "df.info()\n",
        "print(\"dataset info:\\n\", df.describe())"
      ],
      "metadata": {
        "colab": {
          "base_uri": "https://localhost:8080/"
        },
        "id": "NXnj4anF8x3I",
        "outputId": "e31cdc05-1c05-4e71-fa23-c9550140ea9a"
      },
      "execution_count": 30,
      "outputs": [
        {
          "output_type": "stream",
          "name": "stdout",
          "text": [
            "fetched dataset 5 rows as sample:\n",
            "   InvoiceNo StockCode                          Description  Quantity  \\\n",
            "0    536365    85123A   WHITE HANGING HEART T-LIGHT HOLDER         6   \n",
            "1    536365     71053                  WHITE METAL LANTERN         6   \n",
            "2    536365    84406B       CREAM CUPID HEARTS COAT HANGER         8   \n",
            "3    536365    84029G  KNITTED UNION FLAG HOT WATER BOTTLE         6   \n",
            "4    536365    84029E       RED WOOLLY HOTTIE WHITE HEART.         6   \n",
            "\n",
            "      InvoiceDate  UnitPrice  CustomerID         Country  \n",
            "0  12/1/2010 8:26       2.55     17850.0  United Kingdom  \n",
            "1  12/1/2010 8:26       3.39     17850.0  United Kingdom  \n",
            "2  12/1/2010 8:26       2.75     17850.0  United Kingdom  \n",
            "3  12/1/2010 8:26       3.39     17850.0  United Kingdom  \n",
            "4  12/1/2010 8:26       3.39     17850.0  United Kingdom  \n",
            "\n",
            " ============================== \n",
            "\n",
            "<class 'pandas.core.frame.DataFrame'>\n",
            "RangeIndex: 541909 entries, 0 to 541908\n",
            "Data columns (total 8 columns):\n",
            " #   Column       Non-Null Count   Dtype  \n",
            "---  ------       --------------   -----  \n",
            " 0   InvoiceNo    541909 non-null  object \n",
            " 1   StockCode    541909 non-null  object \n",
            " 2   Description  540455 non-null  object \n",
            " 3   Quantity     541909 non-null  int64  \n",
            " 4   InvoiceDate  541909 non-null  object \n",
            " 5   UnitPrice    541909 non-null  float64\n",
            " 6   CustomerID   406829 non-null  float64\n",
            " 7   Country      541909 non-null  object \n",
            "dtypes: float64(2), int64(1), object(5)\n",
            "memory usage: 33.1+ MB\n",
            "dataset info:\n",
            "             Quantity      UnitPrice     CustomerID\n",
            "count  541909.000000  541909.000000  406829.000000\n",
            "mean        9.552250       4.611114   15287.690570\n",
            "std       218.081158      96.759853    1713.600303\n",
            "min    -80995.000000  -11062.060000   12346.000000\n",
            "25%         1.000000       1.250000   13953.000000\n",
            "50%         3.000000       2.080000   15152.000000\n",
            "75%        10.000000       4.130000   16791.000000\n",
            "max     80995.000000   38970.000000   18287.000000\n"
          ]
        }
      ]
    },
    {
      "cell_type": "code",
      "source": [
        "initial_rows = df.shape[0]\n",
        "print(\"Initial row count before any cleaning:\", initial_rows)"
      ],
      "metadata": {
        "colab": {
          "base_uri": "https://localhost:8080/"
        },
        "id": "Tq4tEovs9pXH",
        "outputId": "4ed896ca-0d9a-4003-ea70-21fa8d4580e6"
      },
      "execution_count": 31,
      "outputs": [
        {
          "output_type": "stream",
          "name": "stdout",
          "text": [
            "Initial row count before any: 541909\n"
          ]
        }
      ]
    },
    {
      "cell_type": "code",
      "source": [
        "# Exploring Data\n",
        "# Filter for rows where Quantity is 0 (just to Experiment)\n",
        "# Just generated to know more about zero quantity datas and what are they look like realy:)\n",
        "zero_quantity_rows = df[df['Description'] == \"returned\"]\n",
        "\n",
        "# Print the 'Description' and other useful columns for these rows\n",
        "print(zero_quantity_rows[['Quantity', 'Description', 'UnitPrice', 'CustomerID']])"
      ],
      "metadata": {
        "colab": {
          "base_uri": "https://localhost:8080/"
        },
        "id": "SnkcsbIJos4D",
        "outputId": "5cfd6f24-cbfa-46e8-b3a5-b82dcbd1dd89"
      },
      "execution_count": 32,
      "outputs": [
        {
          "output_type": "stream",
          "name": "stdout",
          "text": [
            "        Quantity Description  UnitPrice  CustomerID\n",
            "166646         2    returned        0.0         NaN\n",
            "166647         2    returned        0.0         NaN\n"
          ]
        }
      ]
    },
    {
      "cell_type": "markdown",
      "source": [
        "### Cleaning Data; Removing Incomplete Records with Missing columns\n",
        "According to dataset info, Some rows has missing data on \"Description\" and/or \"CustomerID\" Columns, as first part of cleaning, we will remove these rows."
      ],
      "metadata": {
        "id": "9v9hssXkJ25G"
      }
    },
    {
      "cell_type": "code",
      "source": [
        "# removing datas with Null/Nan values\n",
        "df_cleaned = df.dropna(subset=['CustomerID', 'Description'])\n",
        "\n",
        "output_rows_count = df_cleaned.shape[0]\n",
        "rows_removed = initial_rows - output_rows_count\n",
        "\n",
        "\n",
        "print(\"row count after removing rows: \", output_rows_count)\n",
        "print(\"removed row count: \", rows_removed)"
      ],
      "metadata": {
        "id": "FrJYKBhgJcUg",
        "colab": {
          "base_uri": "https://localhost:8080/"
        },
        "outputId": "f60aad4d-cdcf-456b-ff65-8ea7b87ba86b"
      },
      "execution_count": 52,
      "outputs": [
        {
          "output_type": "stream",
          "name": "stdout",
          "text": [
            "row count after removing rows:  406829\n",
            "removed row count:  135080\n"
          ]
        }
      ]
    },
    {
      "cell_type": "markdown",
      "source": [
        "more info maybe not useful :\n",
        "\n",
        "we had 4068290 rows with no CustomerID, which is equal to our rows after removing rows with no CustomerID and/or no Description so as result it means if a row has no Description it will have no CustomerID too."
      ],
      "metadata": {
        "id": "UohjZof_iR9C"
      }
    },
    {
      "cell_type": "markdown",
      "source": [
        "###Cleaning Data; Negetive Values (& Returned Invoices)\n",
        "While min value of 'Quantity' and 'UnitPrice' are -80995.000000 and -11062.060000, we have rows with negetive quantity and price which make these rows are invalid.\n",
        "as mentioned in brief we should remove return invoices too, which is covered by removing rows with negetive \"Quantity\" and as more overthinking, in think of deleting positive quantity invoices according to each negetive quantities, the goal of Not loosing data of selected baskets and not being a financial prefossional but a data oriented thinking :) we just remove negetive baskets."
      ],
      "metadata": {
        "id": "YUIxsOsXjh_a"
      }
    },
    {
      "cell_type": "code",
      "source": [
        "# Invoice with negative Quantity == Return Invoice\n",
        "df_cleaned = df_cleaned[df_cleaned['Quantity'] > 0]\n",
        "# Negative Unit Price (invalid - not a buying basket whatever it is)\n",
        "df_cleaned = df_cleaned[df_cleaned['UnitPrice'] >= 0]\n",
        "\n",
        "cleaned_rows_count = df_cleaned.shape[0]\n",
        "print(\"row count after removing rows with neg values: \", cleaned_rows_count)\n",
        "print(\"removed row count (Neg Price and/or Neg Quantity): \", output_rows_count - cleaned_rows_count)"
      ],
      "metadata": {
        "id": "HD_TbDfehvFY",
        "colab": {
          "base_uri": "https://localhost:8080/"
        },
        "outputId": "840b3874-f5a0-4b13-b249-5f9f1973d562"
      },
      "execution_count": 53,
      "outputs": [
        {
          "output_type": "stream",
          "name": "stdout",
          "text": [
            "row count after removing rows with neg values:  397924\n",
            "removed row count (Neg Price and/or Neg Quantity):  8905\n"
          ]
        }
      ]
    },
    {
      "cell_type": "markdown",
      "source": [
        "# Step2: Transaction/Item Matrix"
      ],
      "metadata": {
        "id": "2tKxGlT0vkNI"
      }
    },
    {
      "cell_type": "markdown",
      "source": [
        "## Count Matrix\n",
        "rows='InvoiceNo'\n",
        "\n",
        "columns='StockCode count'"
      ],
      "metadata": {
        "id": "D-rDNF402p9l"
      }
    },
    {
      "cell_type": "code",
      "source": [
        "count_matrix = df_cleaned.pivot_table(index='InvoiceNo',\n",
        "                                      columns='StockCode',\n",
        "                                      aggfunc='size' ,\n",
        "                                      fill_value=0)"
      ],
      "metadata": {
        "id": "lBgGvMQkvsuo"
      },
      "execution_count": 59,
      "outputs": []
    },
    {
      "cell_type": "code",
      "source": [
        "print(\"5 first rows of Transaction/Item_Count Matrix: \\n\")\n",
        "print(count_matrix.head(5))\n",
        "print(\"=\"*30)\n",
        "print(\"number of unique InvoiceNo: \", count_matrix.shape[0] ,\"\\nnumber of unique StockCode\", count_matrix.shape[1])"
      ],
      "metadata": {
        "colab": {
          "base_uri": "https://localhost:8080/"
        },
        "id": "dSEWQhMCwM5S",
        "outputId": "d403e3f2-60c2-4d08-c9ed-46cc329bffb9"
      },
      "execution_count": 60,
      "outputs": [
        {
          "output_type": "stream",
          "name": "stdout",
          "text": [
            "5 first rows of Transaction/Item_Count Matrix: \n",
            "\n",
            "StockCode  10002  10080  10120  10123C  10124A  10124G  10125  10133  10135  \\\n",
            "InvoiceNo                                                                     \n",
            "536365         0      0      0       0       0       0      0      0      0   \n",
            "536366         0      0      0       0       0       0      0      0      0   \n",
            "536367         0      0      0       0       0       0      0      0      0   \n",
            "536368         0      0      0       0       0       0      0      0      0   \n",
            "536369         0      0      0       0       0       0      0      0      0   \n",
            "\n",
            "StockCode  11001  ...  90214V  90214W  90214Y  90214Z  BANK CHARGES  C2  DOT  \\\n",
            "InvoiceNo         ...                                                          \n",
            "536365         0  ...       0       0       0       0             0   0    0   \n",
            "536366         0  ...       0       0       0       0             0   0    0   \n",
            "536367         0  ...       0       0       0       0             0   0    0   \n",
            "536368         0  ...       0       0       0       0             0   0    0   \n",
            "536369         0  ...       0       0       0       0             0   0    0   \n",
            "\n",
            "StockCode  M  PADS  POST  \n",
            "InvoiceNo                 \n",
            "536365     0     0     0  \n",
            "536366     0     0     0  \n",
            "536367     0     0     0  \n",
            "536368     0     0     0  \n",
            "536369     0     0     0  \n",
            "\n",
            "[5 rows x 3665 columns]\n",
            "==============================\n",
            "number of unique InvoiceNo:  18536 \n",
            "number of unique StockCode 3665\n"
          ]
        }
      ]
    },
    {
      "cell_type": "markdown",
      "source": [
        "## Binary Matrix"
      ],
      "metadata": {
        "id": "DCz9ROMJ2nn7"
      }
    },
    {
      "cell_type": "code",
      "source": [
        "binary_matrix = (count_matrix > 0).astype(int)\n",
        "print(binary_matrix.head(10))\n",
        "print(\"Binary Matrix of items (columns) per (transaction) created.\")\n",
        "print(\"Size of Matrix (same as Count Matrix as expected ): \", binary_matrix.shape)"
      ],
      "metadata": {
        "colab": {
          "base_uri": "https://localhost:8080/"
        },
        "id": "84zSmYlg2mtR",
        "outputId": "c00b379d-871f-410a-acc7-f9c2a0b91b54"
      },
      "execution_count": 67,
      "outputs": [
        {
          "output_type": "stream",
          "name": "stdout",
          "text": [
            "StockCode  10002  10080  10120  10123C  10124A  10124G  10125  10133  10135  \\\n",
            "InvoiceNo                                                                     \n",
            "536365         0      0      0       0       0       0      0      0      0   \n",
            "536366         0      0      0       0       0       0      0      0      0   \n",
            "536367         0      0      0       0       0       0      0      0      0   \n",
            "536368         0      0      0       0       0       0      0      0      0   \n",
            "536369         0      0      0       0       0       0      0      0      0   \n",
            "536370         1      0      0       0       0       0      0      0      0   \n",
            "536371         0      0      0       0       0       0      0      0      0   \n",
            "536372         0      0      0       0       0       0      0      0      0   \n",
            "536373         0      0      0       0       0       0      0      0      0   \n",
            "536374         0      0      0       0       0       0      0      0      0   \n",
            "\n",
            "StockCode  11001  ...  90214V  90214W  90214Y  90214Z  BANK CHARGES  C2  DOT  \\\n",
            "InvoiceNo         ...                                                          \n",
            "536365         0  ...       0       0       0       0             0   0    0   \n",
            "536366         0  ...       0       0       0       0             0   0    0   \n",
            "536367         0  ...       0       0       0       0             0   0    0   \n",
            "536368         0  ...       0       0       0       0             0   0    0   \n",
            "536369         0  ...       0       0       0       0             0   0    0   \n",
            "536370         0  ...       0       0       0       0             0   0    0   \n",
            "536371         0  ...       0       0       0       0             0   0    0   \n",
            "536372         0  ...       0       0       0       0             0   0    0   \n",
            "536373         0  ...       0       0       0       0             0   0    0   \n",
            "536374         0  ...       0       0       0       0             0   0    0   \n",
            "\n",
            "StockCode  M  PADS  POST  \n",
            "InvoiceNo                 \n",
            "536365     0     0     0  \n",
            "536366     0     0     0  \n",
            "536367     0     0     0  \n",
            "536368     0     0     0  \n",
            "536369     0     0     0  \n",
            "536370     0     0     1  \n",
            "536371     0     0     0  \n",
            "536372     0     0     0  \n",
            "536373     0     0     0  \n",
            "536374     0     0     0  \n",
            "\n",
            "[10 rows x 3665 columns]\n",
            "Binary Matrix of items (columns) per (transaction) created.\n",
            "Size of Matrix (same as Count Matrix as expected ):  (18536, 3665)\n"
          ]
        }
      ]
    },
    {
      "cell_type": "markdown",
      "source": [
        "as we see each row stands for one InvoiceNo and each column show apearance of stock in InvoiceNo (Basket)."
      ],
      "metadata": {
        "id": "ZNJZ7GPl0EAG"
      }
    },
    {
      "cell_type": "markdown",
      "source": [
        "# Step3: Streaming Simulation"
      ],
      "metadata": {
        "id": "zh8WL75H2cq5"
      }
    },
    {
      "cell_type": "markdown",
      "source": [
        "### InvoiceDate convert to datetime objects"
      ],
      "metadata": {
        "id": "m2mM61tDBmUV"
      }
    },
    {
      "cell_type": "code",
      "source": [
        "import pandas as pd\n",
        "import numpy as np\n",
        "print(\"Before convertion (3 first): \\n\",df_cleaned['InvoiceDate'][:3])\n",
        "df_cleaned['InvoiceDate'] = pd.to_datetime(df_cleaned['InvoiceDate'])\n",
        "print(\"=\"*30)\n",
        "print(\"\\nAfter convertion (3 first): \\n\",df_cleaned['InvoiceDate'][:3])\n",
        "# This code added while in next steps I got to problem for Time object"
      ],
      "metadata": {
        "id": "LnndZfx41YId",
        "colab": {
          "base_uri": "https://localhost:8080/"
        },
        "outputId": "c8207a64-de4a-419d-90f5-719d211167fd"
      },
      "execution_count": 73,
      "outputs": [
        {
          "output_type": "stream",
          "name": "stdout",
          "text": [
            "Before convertion (3 first): \n",
            " 0   2010-12-01 08:26:00\n",
            "1   2010-12-01 08:26:00\n",
            "2   2010-12-01 08:26:00\n",
            "Name: InvoiceDate, dtype: datetime64[ns]\n",
            "==============================\n",
            "\n",
            "After convertion (3 first): \n",
            " 0   2010-12-01 08:26:00\n",
            "1   2010-12-01 08:26:00\n",
            "2   2010-12-01 08:26:00\n",
            "Name: InvoiceDate, dtype: datetime64[ns]\n"
          ]
        }
      ]
    },
    {
      "cell_type": "markdown",
      "source": [
        "## Deviding Batches\n",
        "In first try using a fix number of batches and seperate datas to N batches with same size (number of rows).\n",
        "(another aproach will be seperating by Time (for example each 2 months) and in furthor this method need an experiment and correcting to have batches with close size."
      ],
      "metadata": {
        "id": "7m2JdQKtBe7X"
      }
    },
    {
      "cell_type": "code",
      "source": [
        "\n",
        "sorted_invoice_index = df_cleaned.groupby('InvoiceNo')['InvoiceDate'].min().sort_values().index\n",
        "\n",
        "# Re-order the main matrix based on the sorted invoice index\n",
        "sorted_matrix = binary_matrix.loc[sorted_invoice_index]\n",
        "\n",
        "# Split the sorted matrix into 10 sequential batches\n",
        "N_BATCHES = 20 #TODO : why 10? what is the best number?\n",
        "data_stream_batches = np.array_split(sorted_matrix, N_BATCHES)\n",
        "\n",
        "print(f\"Data stream created with {len(data_stream_batches)} batches.\")"
      ],
      "metadata": {
        "colab": {
          "base_uri": "https://localhost:8080/"
        },
        "id": "xbwxQBu9_sVF",
        "outputId": "9dcc6cb2-6c80-4942-d2c9-f40dc79a9120"
      },
      "execution_count": 82,
      "outputs": [
        {
          "output_type": "stream",
          "name": "stderr",
          "text": [
            "/usr/local/lib/python3.12/dist-packages/numpy/_core/fromnumeric.py:57: FutureWarning: 'DataFrame.swapaxes' is deprecated and will be removed in a future version. Please use 'DataFrame.transpose' instead.\n",
            "  return bound(*args, **kwds)\n"
          ]
        },
        {
          "output_type": "stream",
          "name": "stdout",
          "text": [
            "Data stream created with 20 batches.\n"
          ]
        }
      ]
    },
    {
      "cell_type": "markdown",
      "source": [
        "## Batches info\n"
      ],
      "metadata": {
        "id": "IDN4oMnVBtKY"
      }
    },
    {
      "cell_type": "code",
      "source": [
        "min_duration = [200,-1] # [duration,batch_number]\n",
        "max_duration = [0,-1] # [duration,batch_number] 200 is big enough according to data\n",
        "for i, batch_df in enumerate(data_stream_batches):\n",
        "\n",
        "    # Get the list of InvoiceNo's for this batch (they are the index)\n",
        "    batch_invoice_ids = batch_df.index\n",
        "\n",
        "    # Filter df_cleaned to get all dates for just those invoices\n",
        "    relevant_dates = df_cleaned[df_cleaned['InvoiceNo'].isin(batch_invoice_ids)]['InvoiceDate']\n",
        "    Duration_days = (relevant_dates.max() - relevant_dates.min()).days\n",
        "\n",
        "    if Duration_days < min_duration[0]:\n",
        "        min_duration[0] = Duration_days\n",
        "        min_duration[1] = i+1\n",
        "    if Duration_days > max_duration[0]:\n",
        "        max_duration[0] = Duration_days\n",
        "        max_duration[1] = i+1\n",
        "\n",
        "    print(f\"\\n--- Batch {i+1} ---\")\n",
        "    print(f\"  Shape (Invoices, Items):\", batch_df.shape)\n",
        "    print(f\"  Start Date: \",relevant_dates.min().strftime('%Y-%m-%d'))\n",
        "    print(f\"  End Date: \", relevant_dates.max().strftime('%Y-%m-%d'))\n",
        "    print(f\"  Duration: \",Duration_days,\" days\")\n",
        "print(\"=\"*50)\n",
        "print(\"Min Duration: Batch \",min_duration[1],\" with\", min_duration[0] ,\" days \" )\n",
        "print(\"Max Duration: Batch \",max_duration[1],\" with\", max_duration[0] ,\" days \" )"
      ],
      "metadata": {
        "colab": {
          "base_uri": "https://localhost:8080/"
        },
        "id": "b_T9sYKcAREq",
        "outputId": "32eafaa6-eb64-4ac7-b2d4-a365461dbf42"
      },
      "execution_count": 83,
      "outputs": [
        {
          "output_type": "stream",
          "name": "stdout",
          "text": [
            "\n",
            "--- Batch 1 ---\n",
            "  Shape (Invoices, Items): (927, 3665)\n",
            "  Start Date:  2010-12-01\n",
            "  End Date:  2010-12-13\n",
            "  Duration:  12  days\n",
            "\n",
            "--- Batch 2 ---\n",
            "  Shape (Invoices, Items): (927, 3665)\n",
            "  Start Date:  2010-12-13\n",
            "  End Date:  2011-01-16\n",
            "  Duration:  34  days\n",
            "\n",
            "--- Batch 3 ---\n",
            "  Shape (Invoices, Items): (927, 3665)\n",
            "  Start Date:  2011-01-16\n",
            "  End Date:  2011-02-13\n",
            "  Duration:  27  days\n",
            "\n",
            "--- Batch 4 ---\n",
            "  Shape (Invoices, Items): (927, 3665)\n",
            "  Start Date:  2011-02-13\n",
            "  End Date:  2011-03-09\n",
            "  Duration:  23  days\n",
            "\n",
            "--- Batch 5 ---\n",
            "  Shape (Invoices, Items): (927, 3665)\n",
            "  Start Date:  2011-03-09\n",
            "  End Date:  2011-03-30\n",
            "  Duration:  21  days\n",
            "\n",
            "--- Batch 6 ---\n",
            "  Shape (Invoices, Items): (927, 3665)\n",
            "  Start Date:  2011-03-30\n",
            "  End Date:  2011-04-20\n",
            "  Duration:  20  days\n",
            "\n",
            "--- Batch 7 ---\n",
            "  Shape (Invoices, Items): (927, 3665)\n",
            "  Start Date:  2011-04-20\n",
            "  End Date:  2011-05-12\n",
            "  Duration:  22  days\n",
            "\n",
            "--- Batch 8 ---\n",
            "  Shape (Invoices, Items): (927, 3665)\n",
            "  Start Date:  2011-05-12\n",
            "  End Date:  2011-06-01\n",
            "  Duration:  19  days\n",
            "\n",
            "--- Batch 9 ---\n",
            "  Shape (Invoices, Items): (927, 3665)\n",
            "  Start Date:  2011-06-01\n",
            "  End Date:  2011-06-20\n",
            "  Duration:  19  days\n",
            "\n",
            "--- Batch 10 ---\n",
            "  Shape (Invoices, Items): (927, 3665)\n",
            "  Start Date:  2011-06-20\n",
            "  End Date:  2011-07-12\n",
            "  Duration:  22  days\n",
            "\n",
            "--- Batch 11 ---\n",
            "  Shape (Invoices, Items): (927, 3665)\n",
            "  Start Date:  2011-07-12\n",
            "  End Date:  2011-08-02\n",
            "  Duration:  20  days\n",
            "\n",
            "--- Batch 12 ---\n",
            "  Shape (Invoices, Items): (927, 3665)\n",
            "  Start Date:  2011-08-02\n",
            "  End Date:  2011-08-23\n",
            "  Duration:  21  days\n",
            "\n",
            "--- Batch 13 ---\n",
            "  Shape (Invoices, Items): (927, 3665)\n",
            "  Start Date:  2011-08-24\n",
            "  End Date:  2011-09-13\n",
            "  Duration:  20  days\n",
            "\n",
            "--- Batch 14 ---\n",
            "  Shape (Invoices, Items): (927, 3665)\n",
            "  Start Date:  2011-09-13\n",
            "  End Date:  2011-09-28\n",
            "  Duration:  15  days\n",
            "\n",
            "--- Batch 15 ---\n",
            "  Shape (Invoices, Items): (927, 3665)\n",
            "  Start Date:  2011-09-28\n",
            "  End Date:  2011-10-12\n",
            "  Duration:  13  days\n",
            "\n",
            "--- Batch 16 ---\n",
            "  Shape (Invoices, Items): (927, 3665)\n",
            "  Start Date:  2011-10-12\n",
            "  End Date:  2011-10-27\n",
            "  Duration:  15  days\n",
            "\n",
            "--- Batch 17 ---\n",
            "  Shape (Invoices, Items): (926, 3665)\n",
            "  Start Date:  2011-10-27\n",
            "  End Date:  2011-11-09\n",
            "  Duration:  12  days\n",
            "\n",
            "--- Batch 18 ---\n",
            "  Shape (Invoices, Items): (926, 3665)\n",
            "  Start Date:  2011-11-09\n",
            "  End Date:  2011-11-18\n",
            "  Duration:  9  days\n",
            "\n",
            "--- Batch 19 ---\n",
            "  Shape (Invoices, Items): (926, 3665)\n",
            "  Start Date:  2011-11-18\n",
            "  End Date:  2011-11-29\n",
            "  Duration:  11  days\n",
            "\n",
            "--- Batch 20 ---\n",
            "  Shape (Invoices, Items): (926, 3665)\n",
            "  Start Date:  2011-11-29\n",
            "  End Date:  2011-12-09\n",
            "  Duration:  9  days\n",
            "==================================================\n",
            "Min Duration: Batch  18  with 9  days \n",
            "Max Duration: Batch  2  with 34  days \n"
          ]
        }
      ]
    },
    {
      "cell_type": "markdown",
      "source": [
        "# Step4: Matrix Sketching Algorithms\n",
        "[[summary of Sketching Goals and reasons]]"
      ],
      "metadata": {
        "id": "MF579wOcHH5h"
      }
    },
    {
      "cell_type": "markdown",
      "source": [
        "## Gaussian Random Projection\n",
        "`R` is the random projection matrix in GRP algorithm, a matrix of size `d x k` where `d` is the number of unique StockCode (items) and `k` is the target lower dimension which set to `100` for first try.\n",
        "Note: I'm scaling by $1/\\sqrt{k}$ because the theory says this scaling (along with a $1/\\sqrt{k}$ factor on the projected data, or just scaling $R$ like this) helps $R$ be \"approximately orthogonal\" and preserve Euclidean distances. I should double-check this scaling factor in the literature."
      ],
      "metadata": {
        "id": "zrsASrCRG_o7"
      }
    },
    {
      "cell_type": "code",
      "source": [
        "k=100\n",
        "n, d = data_stream_batches[0].shape\n",
        "print(\"First batch size:\")\n",
        "print(\"n=\",n,\"& d=\",d)\n",
        "R = np.random.normal(0, 1/np.sqrt(k), (d, k))\n",
        "print(\"=\"*30)\n",
        "print(\"Random Matrix : \")\n",
        "print(R)"
      ],
      "metadata": {
        "colab": {
          "base_uri": "https://localhost:8080/"
        },
        "id": "v-fAyfJ9G-Jt",
        "outputId": "6eac676a-3a1c-4e0d-ffed-b776bc19c8bf"
      },
      "execution_count": 44,
      "outputs": [
        {
          "output_type": "stream",
          "name": "stdout",
          "text": [
            "First batch size:\n",
            "n= 1854 & d= 3665\n",
            "==============================\n",
            "Random Matrix : \n",
            "[[ 2.05363430e-02  1.12162405e-01  2.99120605e-02 ... -1.01672645e-01\n",
            "   1.28987755e-01  1.08916956e-01]\n",
            " [ 3.88688369e-02  1.77411799e-04  1.11109646e-01 ... -1.43620125e-01\n",
            "   1.89815763e-01  3.44093516e-02]\n",
            " [-6.15308212e-02  1.45199475e-01 -1.71654668e-01 ...  6.14198214e-02\n",
            "   7.19154803e-02 -1.29005284e-01]\n",
            " ...\n",
            " [-2.62314966e-02 -1.23706438e-01  1.48831846e-01 ...  9.47592560e-02\n",
            "   2.08674447e-02  3.10363549e-02]\n",
            " [ 6.27896366e-02  9.60766258e-02  1.13925323e-01 ...  4.85450201e-02\n",
            "   9.03590470e-02 -3.94298238e-02]\n",
            " [-5.16132667e-02 -1.38919562e-02  2.63934069e-03 ... -6.65468606e-02\n",
            "   1.87153136e-01 -2.61063745e-02]]\n"
          ]
        }
      ]
    },
    {
      "cell_type": "code",
      "source": [
        "grp_batch_sketches = []\n",
        "grp_time_records = []"
      ],
      "metadata": {
        "id": "qV8CMN1kH3DH"
      },
      "execution_count": 45,
      "outputs": []
    },
    {
      "cell_type": "code",
      "source": [
        "start_total_time = time.time()\n",
        "\n",
        "for batch_df in data_stream_batches:\n",
        "\n",
        "    A_batch = batch_df.values\n",
        "\n",
        "    batch_start_time = time.time()\n",
        "\n",
        "    B_sketch = A_batch @ R\n",
        "\n",
        "    batch_end_time = time.time()\n",
        "\n",
        "    grp_batch_sketches.append(B_sketch)\n",
        "    grp_time_records.append(batch_end_time - batch_start_time)\n",
        "\n",
        "end_total_time = time.time()\n",
        "\n",
        "print(\"Whole process took:\", end_total_time - start_total_time, \"seconds\")\n",
        "print(\"Average time per batch:\", np.mean(grp_time_records), \"seconds\")\n",
        "print(\"max time per batch:\", np.max(grp_time_records), \"seconds\")\n",
        "print(\"min time per batch:\", np.min(grp_time_records), \"seconds\")"
      ],
      "metadata": {
        "colab": {
          "base_uri": "https://localhost:8080/"
        },
        "id": "CRBjK2q-IXcf",
        "outputId": "a9571d6d-a613-4c4f-a976-9c45c7ff8fe6"
      },
      "execution_count": 46,
      "outputs": [
        {
          "output_type": "stream",
          "name": "stdout",
          "text": [
            "Whole process took: 2.3198330402374268 seconds\n",
            "Average time per batch: 0.23171746730804443 seconds\n",
            "max time per batch: 0.31688928604125977 seconds\n",
            "min time per batch: 0.1903519630432129 seconds\n"
          ]
        }
      ]
    },
    {
      "cell_type": "code",
      "source": [],
      "metadata": {
        "id": "hWK9mHWlI4Ps"
      },
      "execution_count": 46,
      "outputs": []
    }
  ]
}