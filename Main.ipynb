{
  "nbformat": 4,
  "nbformat_minor": 0,
  "metadata": {
    "colab": {
      "provenance": [],
      "mount_file_id": "1S8IGMmvGQ87fjGBqGpZR3MROWewDWuZX",
      "authorship_tag": "ABX9TyP5J643a0jjk4nbIB7cFYW7",
      "include_colab_link": true
    },
    "kernelspec": {
      "name": "python3",
      "display_name": "Python 3"
    },
    "language_info": {
      "name": "python"
    }
  },
  "cells": [
    {
      "cell_type": "markdown",
      "metadata": {
        "id": "view-in-github",
        "colab_type": "text"
      },
      "source": [
        "<a href=\"https://colab.research.google.com/github/MrHidr/AUT.CDM.matrix-accelerated-fpm/blob/main/Main.ipynb\" target=\"_parent\"><img src=\"https://colab.research.google.com/assets/colab-badge.svg\" alt=\"Open In Colab\"/></a>"
      ]
    },
    {
      "cell_type": "markdown",
      "source": [
        " >**Project\n",
        "information**  =>  **SN**: *404112060*  |  **SName**: *Mahdi Heydari*  |  CDM Course | Project 1 | Oct 2025"
      ],
      "metadata": {
        "id": "y2Jrwr3qGLR_"
      }
    },
    {
      "cell_type": "markdown",
      "source": [
        "# A Survey of Matrix Monitoring Methods for Accelerating Frequent Pattern Mining Algorithms | First project of Computational Data Mining Course\n",
        "\n",
        "## summary\n",
        "[[will be added]]"
      ],
      "metadata": {
        "id": "DuEmM4DcEpjR"
      }
    },
    {
      "cell_type": "markdown",
      "source": [],
      "metadata": {
        "id": "u94cQLZCHEay"
      }
    },
    {
      "cell_type": "markdown",
      "source": [
        "# Step1: Fetching & Cleaning Data"
      ],
      "metadata": {
        "id": "HKzNCrabEtHc"
      }
    },
    {
      "cell_type": "markdown",
      "source": [
        "### Installing Required Packages\n",
        "ucimlrepo package : fetching dataset from UCI (UC Irvine Machine Learning Repository)\n",
        "\n",
        "pandas : dataframe control\n"
      ],
      "metadata": {
        "id": "lxy4drrh74rb"
      }
    },
    {
      "cell_type": "code",
      "source": [
        "!pip install ucimlrepo"
      ],
      "metadata": {
        "colab": {
          "base_uri": "https://localhost:8080/"
        },
        "id": "rU4rwNlv74Ag",
        "outputId": "6f580512-2611-4451-9869-0cfc49c8d735"
      },
      "execution_count": 8,
      "outputs": [
        {
          "output_type": "stream",
          "name": "stdout",
          "text": [
            "Collecting ucimlrepo\n",
            "  Downloading ucimlrepo-0.0.7-py3-none-any.whl.metadata (5.5 kB)\n",
            "Requirement already satisfied: pandas>=1.0.0 in /usr/local/lib/python3.12/dist-packages (from ucimlrepo) (2.2.2)\n",
            "Requirement already satisfied: certifi>=2020.12.5 in /usr/local/lib/python3.12/dist-packages (from ucimlrepo) (2025.10.5)\n",
            "Requirement already satisfied: numpy>=1.26.0 in /usr/local/lib/python3.12/dist-packages (from pandas>=1.0.0->ucimlrepo) (2.0.2)\n",
            "Requirement already satisfied: python-dateutil>=2.8.2 in /usr/local/lib/python3.12/dist-packages (from pandas>=1.0.0->ucimlrepo) (2.9.0.post0)\n",
            "Requirement already satisfied: pytz>=2020.1 in /usr/local/lib/python3.12/dist-packages (from pandas>=1.0.0->ucimlrepo) (2025.2)\n",
            "Requirement already satisfied: tzdata>=2022.7 in /usr/local/lib/python3.12/dist-packages (from pandas>=1.0.0->ucimlrepo) (2025.2)\n",
            "Requirement already satisfied: six>=1.5 in /usr/local/lib/python3.12/dist-packages (from python-dateutil>=2.8.2->pandas>=1.0.0->ucimlrepo) (1.17.0)\n",
            "Downloading ucimlrepo-0.0.7-py3-none-any.whl (8.0 kB)\n",
            "Installing collected packages: ucimlrepo\n",
            "Successfully installed ucimlrepo-0.0.7\n"
          ]
        }
      ]
    },
    {
      "cell_type": "code",
      "source": [
        "#importing packages\n",
        "from ucimlrepo import fetch_ucirepo"
      ],
      "metadata": {
        "id": "wWcdHRk08M6y"
      },
      "execution_count": 9,
      "outputs": []
    },
    {
      "cell_type": "markdown",
      "source": [
        "### Fetching Online Retail Dataset from UCI\n",
        "Documentation of UCI repo : https://github.com/uci-ml-repo/ucimlrepo"
      ],
      "metadata": {
        "id": "msfqoL4m7Kps"
      }
    },
    {
      "cell_type": "code",
      "source": [
        "online_retail = fetch_ucirepo(id=352)"
      ],
      "metadata": {
        "id": "fVWfHnYI7HKV"
      },
      "execution_count": 10,
      "outputs": []
    },
    {
      "cell_type": "code",
      "source": [
        "# data (as pandas dataframes)\n",
        "X = online_retail.data.features\n",
        "df = X.copy()\n",
        "print(\"fetched dataset 5 rows as sample:\\n\", df.head(5))\n",
        "print(\"\\n\",\"=\"*30,\"\\n\")\n",
        "df.info()\n",
        "print(\"dataset info:\\n\", df.describe())"
      ],
      "metadata": {
        "colab": {
          "base_uri": "https://localhost:8080/"
        },
        "id": "NXnj4anF8x3I",
        "outputId": "fef686b5-d99b-4eed-b61c-425fbdcaee8b"
      },
      "execution_count": 32,
      "outputs": [
        {
          "output_type": "stream",
          "name": "stdout",
          "text": [
            "fetched dataset 5 rows as sample:\n",
            "                            Description  Quantity     InvoiceDate  UnitPrice  \\\n",
            "0   WHITE HANGING HEART T-LIGHT HOLDER         6  12/1/2010 8:26       2.55   \n",
            "1                  WHITE METAL LANTERN         6  12/1/2010 8:26       3.39   \n",
            "2       CREAM CUPID HEARTS COAT HANGER         8  12/1/2010 8:26       2.75   \n",
            "3  KNITTED UNION FLAG HOT WATER BOTTLE         6  12/1/2010 8:26       3.39   \n",
            "4       RED WOOLLY HOTTIE WHITE HEART.         6  12/1/2010 8:26       3.39   \n",
            "\n",
            "   CustomerID         Country  \n",
            "0     17850.0  United Kingdom  \n",
            "1     17850.0  United Kingdom  \n",
            "2     17850.0  United Kingdom  \n",
            "3     17850.0  United Kingdom  \n",
            "4     17850.0  United Kingdom  \n",
            "\n",
            " ============================== \n",
            "\n",
            "<class 'pandas.core.frame.DataFrame'>\n",
            "RangeIndex: 541909 entries, 0 to 541908\n",
            "Data columns (total 6 columns):\n",
            " #   Column       Non-Null Count   Dtype  \n",
            "---  ------       --------------   -----  \n",
            " 0   Description  540455 non-null  object \n",
            " 1   Quantity     541909 non-null  int64  \n",
            " 2   InvoiceDate  541909 non-null  object \n",
            " 3   UnitPrice    541909 non-null  float64\n",
            " 4   CustomerID   406829 non-null  float64\n",
            " 5   Country      541909 non-null  object \n",
            "dtypes: float64(2), int64(1), object(3)\n",
            "memory usage: 24.8+ MB\n",
            "dataset info:\n",
            "             Quantity      UnitPrice     CustomerID\n",
            "count  541909.000000  541909.000000  406829.000000\n",
            "mean        9.552250       4.611114   15287.690570\n",
            "std       218.081158      96.759853    1713.600303\n",
            "min    -80995.000000  -11062.060000   12346.000000\n",
            "25%         1.000000       1.250000   13953.000000\n",
            "50%         3.000000       2.080000   15152.000000\n",
            "75%        10.000000       4.130000   16791.000000\n",
            "max     80995.000000   38970.000000   18287.000000\n"
          ]
        }
      ]
    },
    {
      "cell_type": "code",
      "source": [
        "initial_rows = df.shape[0]\n",
        "print(\"Initial row count before any:\", initial_rows)"
      ],
      "metadata": {
        "colab": {
          "base_uri": "https://localhost:8080/"
        },
        "id": "Tq4tEovs9pXH",
        "outputId": "16c97e26-eda7-4a3d-9c3b-c6381bbe3737"
      },
      "execution_count": 26,
      "outputs": [
        {
          "output_type": "stream",
          "name": "stdout",
          "text": [
            "Initial row count before any cleaning: 541909\n"
          ]
        }
      ]
    },
    {
      "cell_type": "code",
      "source": [
        "# Filter for rows where Quantity is 0\n",
        "zero_quantity_rows = df[df['Description'] == \"returned\"]\n",
        "\n",
        "# Display the 'Description' and other useful columns for these rows\n",
        "print(zero_quantity_rows[['Quantity', 'Description', 'UnitPrice', 'CustomerID']].head(77))"
      ],
      "metadata": {
        "id": "SnkcsbIJos4D",
        "outputId": "54d6c12c-cf36-4195-bf42-a9599172ec01",
        "colab": {
          "base_uri": "https://localhost:8080/"
        }
      },
      "execution_count": 70,
      "outputs": [
        {
          "output_type": "stream",
          "name": "stdout",
          "text": [
            "        Quantity Description  UnitPrice  CustomerID\n",
            "166646         2    returned        0.0         NaN\n",
            "166647         2    returned        0.0         NaN\n"
          ]
        }
      ]
    },
    {
      "cell_type": "markdown",
      "source": [
        "### Cleaning Data; Removing Incomplete Records with Missing columns\n",
        "According to dataset info, Some rows has missing data on \"Description\" and/or \"CustomerID\" Columns, as first part of cleaning, we will delete these rows."
      ],
      "metadata": {
        "id": "9v9hssXkJ25G"
      }
    },
    {
      "cell_type": "code",
      "source": [
        "df_cleaned = df.dropna(subset=['CustomerID', 'Description'])\n",
        "rows_removed = initial_rows - df_cleaned.shape[0]"
      ],
      "metadata": {
        "id": "FrJYKBhgJcUg"
      },
      "execution_count": 27,
      "outputs": []
    },
    {
      "cell_type": "code",
      "source": [
        "output_rows = df_cleaned.shape[0]\n",
        "print(\"row count after removing rows: \", output_rows)\n",
        "print(\"removed row count: \", initial_rows - output_rows)"
      ],
      "metadata": {
        "colab": {
          "base_uri": "https://localhost:8080/"
        },
        "id": "zUqAaAA1LKoc",
        "outputId": "bac9db9e-f580-4a59-fec3-4e4772ac6971"
      },
      "execution_count": 28,
      "outputs": [
        {
          "output_type": "stream",
          "name": "stdout",
          "text": [
            "row count after removing rows:  406829\n",
            "removed row count:  135080\n"
          ]
        }
      ]
    },
    {
      "cell_type": "markdown",
      "source": [
        "we had 4068290 rows with no CustomerID, which is equal to our rows after removing rows with no CustomerID and/or no Description so as result it means if a row has no Description it will have no CustomerID too."
      ],
      "metadata": {
        "id": "UohjZof_iR9C"
      }
    },
    {
      "cell_type": "markdown",
      "source": [
        "###Cleaning Data; Negetive Values (& Returned Invoices)\n",
        "While min value of 'Quantity' and 'UnitPrice' are -80995.000000 and -11062.060000, we have rows with negetive quantity and price which make these rows are invalid.\n",
        "as mentioned in brief we should remove return invoices too, which is covered by removing rows with negetive \"Quantity\" and as more overthinking, in think of deleting متناظر negetive quantities, the goal of Not loosing data of selected baskets and not being a financial prefossional we just remove negetive baskets."
      ],
      "metadata": {
        "id": "YUIxsOsXjh_a"
      }
    },
    {
      "cell_type": "code",
      "source": [
        "df_cleaned = df_cleaned[df_cleaned['Quantity'] > 0]\n",
        "df_cleaned = df_cleaned[df_cleaned['UnitPrice'] >= 0]"
      ],
      "metadata": {
        "id": "HD_TbDfehvFY"
      },
      "execution_count": 29,
      "outputs": []
    },
    {
      "cell_type": "code",
      "source": [
        "print(\"row count after removing rows with neg values: \", df_cleaned.shape[0])\n",
        "print(\"removed row count: \", output_rows - df_cleaned.shape[0])\n",
        "output_rows = df_cleaned.shape[0]"
      ],
      "metadata": {
        "id": "-1bnDzZRjAhc",
        "outputId": "dd770104-4676-49cb-a235-be35530fce2b",
        "colab": {
          "base_uri": "https://localhost:8080/"
        }
      },
      "execution_count": 31,
      "outputs": [
        {
          "output_type": "stream",
          "name": "stdout",
          "text": [
            "row count after removing rows with neg values:  397924\n",
            "removed row count:  0\n"
          ]
        }
      ]
    },
    {
      "cell_type": "code",
      "source": [],
      "metadata": {
        "id": "LyHNikfjkoBW"
      },
      "execution_count": 30,
      "outputs": []
    }
  ]
}