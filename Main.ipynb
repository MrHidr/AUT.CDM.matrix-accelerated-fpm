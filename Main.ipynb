{
  "nbformat": 4,
  "nbformat_minor": 0,
  "metadata": {
    "colab": {
      "provenance": [],
      "mount_file_id": "1S8IGMmvGQ87fjGBqGpZR3MROWewDWuZX",
      "authorship_tag": "ABX9TyM2r4cW6GUekvWfubA2nPdC",
      "include_colab_link": true
    },
    "kernelspec": {
      "name": "python3",
      "display_name": "Python 3"
    },
    "language_info": {
      "name": "python"
    }
  },
  "cells": [
    {
      "cell_type": "markdown",
      "metadata": {
        "id": "view-in-github",
        "colab_type": "text"
      },
      "source": [
        "<a href=\"https://colab.research.google.com/github/MrHidr/AUT.CDM.matrix-accelerated-fpm/blob/main/Main.ipynb\" target=\"_parent\"><img src=\"https://colab.research.google.com/assets/colab-badge.svg\" alt=\"Open In Colab\"/></a>"
      ]
    },
    {
      "cell_type": "markdown",
      "source": [
        " >**Project\n",
        "information**  =>  **SN**: *404112060*  |  **SName**: *Mahdi Heydari*  |  CDM Course | Project 1 | Oct 2025"
      ],
      "metadata": {
        "id": "y2Jrwr3qGLR_"
      }
    },
    {
      "cell_type": "markdown",
      "source": [
        "# A Survey of Matrix Monitoring Methods for Accelerating Frequent Pattern Mining Algorithms | First project of Computational Data Mining Course\n",
        "\n",
        "## summary\n",
        "[[will be added]]"
      ],
      "metadata": {
        "id": "DuEmM4DcEpjR"
      }
    },
    {
      "cell_type": "markdown",
      "source": [],
      "metadata": {
        "id": "u94cQLZCHEay"
      }
    },
    {
      "cell_type": "markdown",
      "source": [
        "# Step1: Fetching & Cleaning Data"
      ],
      "metadata": {
        "id": "HKzNCrabEtHc"
      }
    },
    {
      "cell_type": "markdown",
      "source": [
        "### Installing Required Packages\n",
        "ucimlrepo package : fetching dataset from UCI (UC Irvine Machine Learning Repository)\n",
        "\n",
        "pandas : dataframe control\n"
      ],
      "metadata": {
        "id": "lxy4drrh74rb"
      }
    },
    {
      "cell_type": "code",
      "source": [
        "!pip install ucimlrepo"
      ],
      "metadata": {
        "colab": {
          "base_uri": "https://localhost:8080/"
        },
        "id": "rU4rwNlv74Ag",
        "outputId": "b3e0cf0a-ad66-487f-bb81-70254fc50b33"
      },
      "execution_count": 7,
      "outputs": [
        {
          "output_type": "stream",
          "name": "stdout",
          "text": [
            "Requirement already satisfied: ucimlrepo in /usr/local/lib/python3.12/dist-packages (0.0.7)\n",
            "Requirement already satisfied: pandas>=1.0.0 in /usr/local/lib/python3.12/dist-packages (from ucimlrepo) (2.2.2)\n",
            "Requirement already satisfied: certifi>=2020.12.5 in /usr/local/lib/python3.12/dist-packages (from ucimlrepo) (2025.10.5)\n",
            "Requirement already satisfied: numpy>=1.26.0 in /usr/local/lib/python3.12/dist-packages (from pandas>=1.0.0->ucimlrepo) (2.0.2)\n",
            "Requirement already satisfied: python-dateutil>=2.8.2 in /usr/local/lib/python3.12/dist-packages (from pandas>=1.0.0->ucimlrepo) (2.9.0.post0)\n",
            "Requirement already satisfied: pytz>=2020.1 in /usr/local/lib/python3.12/dist-packages (from pandas>=1.0.0->ucimlrepo) (2025.2)\n",
            "Requirement already satisfied: tzdata>=2022.7 in /usr/local/lib/python3.12/dist-packages (from pandas>=1.0.0->ucimlrepo) (2025.2)\n",
            "Requirement already satisfied: six>=1.5 in /usr/local/lib/python3.12/dist-packages (from python-dateutil>=2.8.2->pandas>=1.0.0->ucimlrepo) (1.17.0)\n"
          ]
        }
      ]
    },
    {
      "cell_type": "code",
      "source": [
        "#importing packages\n",
        "from ucimlrepo import fetch_ucirepo"
      ],
      "metadata": {
        "id": "wWcdHRk08M6y"
      },
      "execution_count": 8,
      "outputs": []
    },
    {
      "cell_type": "markdown",
      "source": [
        "### Fetching Online Retail Dataset from UCI\n",
        "Documentation of UCI repo : https://github.com/uci-ml-repo/ucimlrepo"
      ],
      "metadata": {
        "id": "msfqoL4m7Kps"
      }
    },
    {
      "cell_type": "code",
      "source": [
        "online_retail = fetch_ucirepo(id=352)"
      ],
      "metadata": {
        "id": "fVWfHnYI7HKV"
      },
      "execution_count": 9,
      "outputs": []
    },
    {
      "cell_type": "code",
      "source": [
        "# data (as pandas dataframes)\n",
        "X = online_retail.data.features\n",
        "df = X.copy()\n",
        "#print(\"fetched dataset 5 samples:\\n\", df.head(5))\n",
        "#print(\"\\n\",\"=\"*30,\"\\n\")\n",
        "df.info()\n",
        "print(\"dataset info:\\n\", df.describe())"
      ],
      "metadata": {
        "colab": {
          "base_uri": "https://localhost:8080/"
        },
        "id": "NXnj4anF8x3I",
        "outputId": "3dc044ee-2b8c-41dd-c67f-a37a2eb587ac"
      },
      "execution_count": 32,
      "outputs": [
        {
          "output_type": "stream",
          "name": "stdout",
          "text": [
            "<class 'pandas.core.frame.DataFrame'>\n",
            "RangeIndex: 541909 entries, 0 to 541908\n",
            "Data columns (total 6 columns):\n",
            " #   Column       Non-Null Count   Dtype  \n",
            "---  ------       --------------   -----  \n",
            " 0   Description  540455 non-null  object \n",
            " 1   Quantity     541909 non-null  int64  \n",
            " 2   InvoiceDate  541909 non-null  object \n",
            " 3   UnitPrice    541909 non-null  float64\n",
            " 4   CustomerID   406829 non-null  float64\n",
            " 5   Country      541909 non-null  object \n",
            "dtypes: float64(2), int64(1), object(3)\n",
            "memory usage: 24.8+ MB\n",
            "dataset info:\n",
            "             Quantity      UnitPrice     CustomerID\n",
            "count  541909.000000  541909.000000  406829.000000\n",
            "mean        9.552250       4.611114   15287.690570\n",
            "std       218.081158      96.759853    1713.600303\n",
            "min    -80995.000000  -11062.060000   12346.000000\n",
            "25%         1.000000       1.250000   13953.000000\n",
            "50%         3.000000       2.080000   15152.000000\n",
            "75%        10.000000       4.130000   16791.000000\n",
            "max     80995.000000   38970.000000   18287.000000\n"
          ]
        }
      ]
    },
    {
      "cell_type": "code",
      "source": [
        "initial_rows = df.shape[0]\n",
        "print(\"Initial row count before any cleaning:\", initial_rows)"
      ],
      "metadata": {
        "colab": {
          "base_uri": "https://localhost:8080/"
        },
        "id": "Tq4tEovs9pXH",
        "outputId": "b7697878-d45c-4000-d52c-3cd812ef128b"
      },
      "execution_count": 33,
      "outputs": [
        {
          "output_type": "stream",
          "name": "stdout",
          "text": [
            "Initial row count before any cleaning: 541909\n"
          ]
        }
      ]
    },
    {
      "cell_type": "markdown",
      "source": [
        "### Cleaning Data; Removing Uncomplete Records with Missing columns\n",
        "According to dataset info, Some rows has missing data on \"Description\" and/or \"CustomerID\" Columns, as first part of cleaning, we will delete these rows."
      ],
      "metadata": {
        "id": "9v9hssXkJ25G"
      }
    },
    {
      "cell_type": "code",
      "source": [
        "df_cleaned = df.dropna(subset=['CustomerID', 'Description'])\n",
        "rows_removed = initial_rows - df_cleaned.shape[0]"
      ],
      "metadata": {
        "id": "FrJYKBhgJcUg"
      },
      "execution_count": 35,
      "outputs": []
    },
    {
      "cell_type": "code",
      "source": [
        "no_missing_rows = df_cleaned.shape[0]\n",
        "print(\"row count after removing rows with missing columns:\", initial_rows)"
      ],
      "metadata": {
        "id": "zUqAaAA1LKoc"
      },
      "execution_count": null,
      "outputs": []
    }
  ]
}