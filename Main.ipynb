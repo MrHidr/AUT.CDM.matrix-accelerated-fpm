{
  "nbformat": 4,
  "nbformat_minor": 0,
  "metadata": {
    "colab": {
      "provenance": [],
      "toc_visible": true,
      "mount_file_id": "1S8IGMmvGQ87fjGBqGpZR3MROWewDWuZX",
      "authorship_tag": "ABX9TyPVi+3vtCcs1O+OVT8ZDKdD",
      "include_colab_link": true
    },
    "kernelspec": {
      "name": "python3",
      "display_name": "Python 3"
    },
    "language_info": {
      "name": "python"
    }
  },
  "cells": [
    {
      "cell_type": "markdown",
      "metadata": {
        "id": "view-in-github",
        "colab_type": "text"
      },
      "source": [
        "<a href=\"https://colab.research.google.com/github/MrHidr/AUT.CDM.matrix-accelerated-fpm/blob/main/Main.ipynb\" target=\"_parent\"><img src=\"https://colab.research.google.com/assets/colab-badge.svg\" alt=\"Open In Colab\"/></a>"
      ]
    },
    {
      "cell_type": "markdown",
      "source": [
        " >**Project\n",
        "information**  =>  **SN**: *404112060*  |  **SName**: *Mahdi Heydari*  |  CDM Course | Project 1 | Oct 2025"
      ],
      "metadata": {
        "id": "y2Jrwr3qGLR_"
      }
    },
    {
      "cell_type": "markdown",
      "source": [
        "# A Survey of Matrix Monitoring Methods for Accelerating Frequent Pattern Mining Algorithms | First project of Computational Data Mining Course\n",
        "\n",
        "## summary\n",
        "[[will be added]]"
      ],
      "metadata": {
        "id": "DuEmM4DcEpjR"
      }
    },
    {
      "cell_type": "markdown",
      "source": [],
      "metadata": {
        "id": "u94cQLZCHEay"
      }
    },
    {
      "cell_type": "markdown",
      "source": [
        "# Step1: Fetching & Cleaning Data"
      ],
      "metadata": {
        "id": "HKzNCrabEtHc"
      }
    },
    {
      "cell_type": "markdown",
      "source": [
        "### Installing Required Packages\n",
        "ucimlrepo package : fetching dataset from UCI (UC Irvine Machine Learning Repository)\n",
        "\n",
        "pandas : dataframe control\n"
      ],
      "metadata": {
        "id": "lxy4drrh74rb"
      }
    },
    {
      "cell_type": "code",
      "source": [
        "!pip install ucimlrepo"
      ],
      "metadata": {
        "colab": {
          "base_uri": "https://localhost:8080/"
        },
        "id": "rU4rwNlv74Ag",
        "outputId": "6f580512-2611-4451-9869-0cfc49c8d735"
      },
      "execution_count": 8,
      "outputs": [
        {
          "output_type": "stream",
          "name": "stdout",
          "text": [
            "Collecting ucimlrepo\n",
            "  Downloading ucimlrepo-0.0.7-py3-none-any.whl.metadata (5.5 kB)\n",
            "Requirement already satisfied: pandas>=1.0.0 in /usr/local/lib/python3.12/dist-packages (from ucimlrepo) (2.2.2)\n",
            "Requirement already satisfied: certifi>=2020.12.5 in /usr/local/lib/python3.12/dist-packages (from ucimlrepo) (2025.10.5)\n",
            "Requirement already satisfied: numpy>=1.26.0 in /usr/local/lib/python3.12/dist-packages (from pandas>=1.0.0->ucimlrepo) (2.0.2)\n",
            "Requirement already satisfied: python-dateutil>=2.8.2 in /usr/local/lib/python3.12/dist-packages (from pandas>=1.0.0->ucimlrepo) (2.9.0.post0)\n",
            "Requirement already satisfied: pytz>=2020.1 in /usr/local/lib/python3.12/dist-packages (from pandas>=1.0.0->ucimlrepo) (2025.2)\n",
            "Requirement already satisfied: tzdata>=2022.7 in /usr/local/lib/python3.12/dist-packages (from pandas>=1.0.0->ucimlrepo) (2025.2)\n",
            "Requirement already satisfied: six>=1.5 in /usr/local/lib/python3.12/dist-packages (from python-dateutil>=2.8.2->pandas>=1.0.0->ucimlrepo) (1.17.0)\n",
            "Downloading ucimlrepo-0.0.7-py3-none-any.whl (8.0 kB)\n",
            "Installing collected packages: ucimlrepo\n",
            "Successfully installed ucimlrepo-0.0.7\n"
          ]
        }
      ]
    },
    {
      "cell_type": "code",
      "source": [
        "#importing packages\n",
        "from ucimlrepo import fetch_ucirepo\n",
        "import pandas as pd"
      ],
      "metadata": {
        "id": "wWcdHRk08M6y"
      },
      "execution_count": 106,
      "outputs": []
    },
    {
      "cell_type": "markdown",
      "source": [
        "### Fetching Online Retail Dataset from UCI\n",
        "Documentation of UCI repo : https://github.com/uci-ml-repo/ucimlrepo"
      ],
      "metadata": {
        "id": "msfqoL4m7Kps"
      }
    },
    {
      "cell_type": "code",
      "source": [
        "online_retail = fetch_ucirepo(id=352)"
      ],
      "metadata": {
        "id": "fVWfHnYI7HKV"
      },
      "execution_count": 107,
      "outputs": []
    },
    {
      "cell_type": "code",
      "source": [
        "# data (as pandas dataframes)\n",
        "X = online_retail.data.features\n",
        "I = online_retail.data.ids\n",
        "df = pd.concat([I, X], axis=1)\n",
        "print(\"fetched dataset 5 rows as sample:\\n\", df.head(5))\n",
        "print(\"\\n\",\"=\"*30,\"\\n\")\n",
        "df.info()\n",
        "print(\"dataset info:\\n\", df.describe())"
      ],
      "metadata": {
        "colab": {
          "base_uri": "https://localhost:8080/"
        },
        "id": "NXnj4anF8x3I",
        "outputId": "ebf44aa0-b890-49f3-d84d-36436bdd3dae"
      },
      "execution_count": 111,
      "outputs": [
        {
          "output_type": "stream",
          "name": "stdout",
          "text": [
            "fetched dataset 5 rows as sample:\n",
            "   InvoiceNo StockCode                          Description  Quantity  \\\n",
            "0    536365    85123A   WHITE HANGING HEART T-LIGHT HOLDER         6   \n",
            "1    536365     71053                  WHITE METAL LANTERN         6   \n",
            "2    536365    84406B       CREAM CUPID HEARTS COAT HANGER         8   \n",
            "3    536365    84029G  KNITTED UNION FLAG HOT WATER BOTTLE         6   \n",
            "4    536365    84029E       RED WOOLLY HOTTIE WHITE HEART.         6   \n",
            "\n",
            "      InvoiceDate  UnitPrice  CustomerID         Country  \n",
            "0  12/1/2010 8:26       2.55     17850.0  United Kingdom  \n",
            "1  12/1/2010 8:26       3.39     17850.0  United Kingdom  \n",
            "2  12/1/2010 8:26       2.75     17850.0  United Kingdom  \n",
            "3  12/1/2010 8:26       3.39     17850.0  United Kingdom  \n",
            "4  12/1/2010 8:26       3.39     17850.0  United Kingdom  \n",
            "\n",
            " ============================== \n",
            "\n",
            "<class 'pandas.core.frame.DataFrame'>\n",
            "RangeIndex: 541909 entries, 0 to 541908\n",
            "Data columns (total 8 columns):\n",
            " #   Column       Non-Null Count   Dtype  \n",
            "---  ------       --------------   -----  \n",
            " 0   InvoiceNo    541909 non-null  object \n",
            " 1   StockCode    541909 non-null  object \n",
            " 2   Description  540455 non-null  object \n",
            " 3   Quantity     541909 non-null  int64  \n",
            " 4   InvoiceDate  541909 non-null  object \n",
            " 5   UnitPrice    541909 non-null  float64\n",
            " 6   CustomerID   406829 non-null  float64\n",
            " 7   Country      541909 non-null  object \n",
            "dtypes: float64(2), int64(1), object(5)\n",
            "memory usage: 33.1+ MB\n",
            "dataset info:\n",
            "             Quantity      UnitPrice     CustomerID\n",
            "count  541909.000000  541909.000000  406829.000000\n",
            "mean        9.552250       4.611114   15287.690570\n",
            "std       218.081158      96.759853    1713.600303\n",
            "min    -80995.000000  -11062.060000   12346.000000\n",
            "25%         1.000000       1.250000   13953.000000\n",
            "50%         3.000000       2.080000   15152.000000\n",
            "75%        10.000000       4.130000   16791.000000\n",
            "max     80995.000000   38970.000000   18287.000000\n"
          ]
        }
      ]
    },
    {
      "cell_type": "code",
      "source": [
        "initial_rows = df.shape[0]\n",
        "print(\"Initial row count before any:\", initial_rows)"
      ],
      "metadata": {
        "colab": {
          "base_uri": "https://localhost:8080/"
        },
        "id": "Tq4tEovs9pXH",
        "outputId": "a9cfa7e6-95d8-4b04-eee2-dbc77a255781"
      },
      "execution_count": 112,
      "outputs": [
        {
          "output_type": "stream",
          "name": "stdout",
          "text": [
            "Initial row count before any: 541909\n"
          ]
        }
      ]
    },
    {
      "cell_type": "code",
      "source": [
        "# Filter for rows where Quantity is 0\n",
        "zero_quantity_rows = df[df['Description'] == \"returned\"]\n",
        "\n",
        "# Display the 'Description' and other useful columns for these rows\n",
        "print(zero_quantity_rows[['Quantity', 'Description', 'UnitPrice', 'CustomerID']].head(77))"
      ],
      "metadata": {
        "colab": {
          "base_uri": "https://localhost:8080/"
        },
        "id": "SnkcsbIJos4D",
        "outputId": "9664aa1c-d2e7-4477-ef21-783d8653c2d9"
      },
      "execution_count": 113,
      "outputs": [
        {
          "output_type": "stream",
          "name": "stdout",
          "text": [
            "        Quantity Description  UnitPrice  CustomerID\n",
            "166646         2    returned        0.0         NaN\n",
            "166647         2    returned        0.0         NaN\n"
          ]
        }
      ]
    },
    {
      "cell_type": "markdown",
      "source": [
        "### Cleaning Data; Removing Incomplete Records with Missing columns\n",
        "According to dataset info, Some rows has missing data on \"Description\" and/or \"CustomerID\" Columns, as first part of cleaning, we will delete these rows."
      ],
      "metadata": {
        "id": "9v9hssXkJ25G"
      }
    },
    {
      "cell_type": "code",
      "source": [
        "df_cleaned = df.dropna(subset=['CustomerID', 'Description'])\n",
        "rows_removed = initial_rows - df_cleaned.shape[0]"
      ],
      "metadata": {
        "id": "FrJYKBhgJcUg"
      },
      "execution_count": 114,
      "outputs": []
    },
    {
      "cell_type": "code",
      "source": [
        "output_rows_count = df_cleaned.shape[0]\n",
        "print(\"row count after removing rows: \", output_rows_count)\n",
        "print(\"removed row count: \", initial_rows - output_rows_count)"
      ],
      "metadata": {
        "colab": {
          "base_uri": "https://localhost:8080/"
        },
        "id": "zUqAaAA1LKoc",
        "outputId": "3dfadbcd-2204-45f1-ce76-7cbaef25ba73"
      },
      "execution_count": 115,
      "outputs": [
        {
          "output_type": "stream",
          "name": "stdout",
          "text": [
            "row count after removing rows:  406829\n",
            "removed row count:  135080\n"
          ]
        }
      ]
    },
    {
      "cell_type": "markdown",
      "source": [
        "we had 4068290 rows with no CustomerID, which is equal to our rows after removing rows with no CustomerID and/or no Description so as result it means if a row has no Description it will have no CustomerID too."
      ],
      "metadata": {
        "id": "UohjZof_iR9C"
      }
    },
    {
      "cell_type": "markdown",
      "source": [
        "###Cleaning Data; Negetive Values (& Returned Invoices)\n",
        "While min value of 'Quantity' and 'UnitPrice' are -80995.000000 and -11062.060000, we have rows with negetive quantity and price which make these rows are invalid.\n",
        "as mentioned in brief we should remove return invoices too, which is covered by removing rows with negetive \"Quantity\" and as more overthinking, in think of deleting متناظر negetive quantities, the goal of Not loosing data of selected baskets and not being a financial prefossional we just remove negetive baskets."
      ],
      "metadata": {
        "id": "YUIxsOsXjh_a"
      }
    },
    {
      "cell_type": "code",
      "source": [
        "df_cleaned = df_cleaned[df_cleaned['Quantity'] > 0]\n",
        "df_cleaned = df_cleaned[df_cleaned['UnitPrice'] >= 0]"
      ],
      "metadata": {
        "id": "HD_TbDfehvFY"
      },
      "execution_count": 116,
      "outputs": []
    },
    {
      "cell_type": "code",
      "source": [
        "cleaned_rows_count = df_cleaned.shape[0]\n",
        "print(\"row count after removing rows with neg values: \", cleaned_rows_count)\n",
        "print(\"removed row count (Neg Price and/or Neg Quantity): \", output_rows_count - cleaned_rows_count)"
      ],
      "metadata": {
        "colab": {
          "base_uri": "https://localhost:8080/"
        },
        "id": "-1bnDzZRjAhc",
        "outputId": "e49504ea-16c8-49fa-d384-973d5457fdaa"
      },
      "execution_count": 117,
      "outputs": [
        {
          "output_type": "stream",
          "name": "stdout",
          "text": [
            "row count after removing rows with neg values:  397924\n",
            "removed row count (Neg Price and/or Neg Quantity):  8905\n"
          ]
        }
      ]
    },
    {
      "cell_type": "code",
      "source": [],
      "metadata": {
        "id": "LyHNikfjkoBW"
      },
      "execution_count": 117,
      "outputs": []
    },
    {
      "cell_type": "markdown",
      "source": [
        "# Step2: Item-Transaction Matrix"
      ],
      "metadata": {
        "id": "2tKxGlT0vkNI"
      }
    },
    {
      "cell_type": "markdown",
      "source": [
        "## Count Matrix\n",
        "(rows='InvoiceNo',columns='StockCode count')"
      ],
      "metadata": {
        "id": "D-rDNF402p9l"
      }
    },
    {
      "cell_type": "code",
      "source": [
        "count_matrix = df_cleaned.pivot_table(index='InvoiceNo',\n",
        "                                      columns='StockCode',\n",
        "                                      aggfunc='size' ,\n",
        "                                      fill_value=0)"
      ],
      "metadata": {
        "id": "lBgGvMQkvsuo"
      },
      "execution_count": 148,
      "outputs": []
    },
    {
      "cell_type": "code",
      "source": [
        "print(count_matrix.head(10))\n",
        "print(\"=\"*30)\n",
        "print(\"number of unique InvoiceNo: \", count_matrix.shape[0] ,\"\\nnumber of unique StockCode\", count_matrix.shape[1])"
      ],
      "metadata": {
        "id": "dSEWQhMCwM5S",
        "outputId": "beafaef3-a664-4d34-8da0-34f7329a2838",
        "colab": {
          "base_uri": "https://localhost:8080/"
        }
      },
      "execution_count": 149,
      "outputs": [
        {
          "output_type": "stream",
          "name": "stdout",
          "text": [
            "StockCode  10002  10080  10120  10123C  10124A  10124G  10125  10133  10135  \\\n",
            "InvoiceNo                                                                     \n",
            "536365         0      0      0       0       0       0      0      0      0   \n",
            "536366         0      0      0       0       0       0      0      0      0   \n",
            "536367         0      0      0       0       0       0      0      0      0   \n",
            "536368         0      0      0       0       0       0      0      0      0   \n",
            "536369         0      0      0       0       0       0      0      0      0   \n",
            "536370         1      0      0       0       0       0      0      0      0   \n",
            "536371         0      0      0       0       0       0      0      0      0   \n",
            "536372         0      0      0       0       0       0      0      0      0   \n",
            "536373         0      0      0       0       0       0      0      0      0   \n",
            "536374         0      0      0       0       0       0      0      0      0   \n",
            "\n",
            "StockCode  11001  ...  90214V  90214W  90214Y  90214Z  BANK CHARGES  C2  DOT  \\\n",
            "InvoiceNo         ...                                                          \n",
            "536365         0  ...       0       0       0       0             0   0    0   \n",
            "536366         0  ...       0       0       0       0             0   0    0   \n",
            "536367         0  ...       0       0       0       0             0   0    0   \n",
            "536368         0  ...       0       0       0       0             0   0    0   \n",
            "536369         0  ...       0       0       0       0             0   0    0   \n",
            "536370         0  ...       0       0       0       0             0   0    0   \n",
            "536371         0  ...       0       0       0       0             0   0    0   \n",
            "536372         0  ...       0       0       0       0             0   0    0   \n",
            "536373         0  ...       0       0       0       0             0   0    0   \n",
            "536374         0  ...       0       0       0       0             0   0    0   \n",
            "\n",
            "StockCode  M  PADS  POST  \n",
            "InvoiceNo                 \n",
            "536365     0     0     0  \n",
            "536366     0     0     0  \n",
            "536367     0     0     0  \n",
            "536368     0     0     0  \n",
            "536369     0     0     0  \n",
            "536370     0     0     1  \n",
            "536371     0     0     0  \n",
            "536372     0     0     0  \n",
            "536373     0     0     0  \n",
            "536374     0     0     0  \n",
            "\n",
            "[10 rows x 3665 columns]\n",
            "==============================\n",
            "number of unique InvoiceNo:  18536 \n",
            "number of unique StockCode 3665\n"
          ]
        }
      ]
    },
    {
      "cell_type": "markdown",
      "source": [
        "## Binary Matrix"
      ],
      "metadata": {
        "id": "DCz9ROMJ2nn7"
      }
    },
    {
      "cell_type": "code",
      "source": [
        "binary_matrix = (count_matrix > 0).astype(int)\n",
        "print(binary_matrix.head(10))"
      ],
      "metadata": {
        "id": "84zSmYlg2mtR",
        "outputId": "69dd0ff7-3f48-4abb-a572-c608db99b6c5",
        "colab": {
          "base_uri": "https://localhost:8080/"
        }
      },
      "execution_count": 151,
      "outputs": [
        {
          "output_type": "stream",
          "name": "stdout",
          "text": [
            "StockCode  10002  10080  10120  10123C  10124A  10124G  10125  10133  10135  \\\n",
            "InvoiceNo                                                                     \n",
            "536365         0      0      0       0       0       0      0      0      0   \n",
            "536366         0      0      0       0       0       0      0      0      0   \n",
            "536367         0      0      0       0       0       0      0      0      0   \n",
            "536368         0      0      0       0       0       0      0      0      0   \n",
            "536369         0      0      0       0       0       0      0      0      0   \n",
            "536370         1      0      0       0       0       0      0      0      0   \n",
            "536371         0      0      0       0       0       0      0      0      0   \n",
            "536372         0      0      0       0       0       0      0      0      0   \n",
            "536373         0      0      0       0       0       0      0      0      0   \n",
            "536374         0      0      0       0       0       0      0      0      0   \n",
            "\n",
            "StockCode  11001  ...  90214V  90214W  90214Y  90214Z  BANK CHARGES  C2  DOT  \\\n",
            "InvoiceNo         ...                                                          \n",
            "536365         0  ...       0       0       0       0             0   0    0   \n",
            "536366         0  ...       0       0       0       0             0   0    0   \n",
            "536367         0  ...       0       0       0       0             0   0    0   \n",
            "536368         0  ...       0       0       0       0             0   0    0   \n",
            "536369         0  ...       0       0       0       0             0   0    0   \n",
            "536370         0  ...       0       0       0       0             0   0    0   \n",
            "536371         0  ...       0       0       0       0             0   0    0   \n",
            "536372         0  ...       0       0       0       0             0   0    0   \n",
            "536373         0  ...       0       0       0       0             0   0    0   \n",
            "536374         0  ...       0       0       0       0             0   0    0   \n",
            "\n",
            "StockCode  M  PADS  POST  \n",
            "InvoiceNo                 \n",
            "536365     0     0     0  \n",
            "536366     0     0     0  \n",
            "536367     0     0     0  \n",
            "536368     0     0     0  \n",
            "536369     0     0     0  \n",
            "536370     0     0     1  \n",
            "536371     0     0     0  \n",
            "536372     0     0     0  \n",
            "536373     0     0     0  \n",
            "536374     0     0     0  \n",
            "\n",
            "[10 rows x 3665 columns]\n"
          ]
        }
      ]
    },
    {
      "cell_type": "markdown",
      "source": [
        "as we see each row stands for one InvoiceNo and each column show apearance of stock in InvoiceNo (Basket)."
      ],
      "metadata": {
        "id": "ZNJZ7GPl0EAG"
      }
    },
    {
      "cell_type": "code",
      "source": [
        "#accessing row data by InvoiceID"
      ],
      "metadata": {
        "id": "6yr2xFIAyWWA"
      },
      "execution_count": 152,
      "outputs": []
    },
    {
      "cell_type": "markdown",
      "source": [
        "# Step3: Streaming Simulation"
      ],
      "metadata": {
        "id": "zh8WL75H2cq5"
      }
    },
    {
      "cell_type": "code",
      "source": [],
      "metadata": {
        "id": "LnndZfx41YId"
      },
      "execution_count": null,
      "outputs": []
    }
  ]
}