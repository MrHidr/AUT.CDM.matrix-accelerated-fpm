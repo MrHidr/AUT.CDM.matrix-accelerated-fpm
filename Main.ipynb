{
  "nbformat": 4,
  "nbformat_minor": 0,
  "metadata": {
    "colab": {
      "provenance": [],
      "toc_visible": true,
      "mount_file_id": "1S8IGMmvGQ87fjGBqGpZR3MROWewDWuZX",
      "authorship_tag": "ABX9TyOvc5P5OKWatA3+sBnEYiCu",
      "include_colab_link": true
    },
    "kernelspec": {
      "name": "python3",
      "display_name": "Python 3"
    },
    "language_info": {
      "name": "python"
    }
  },
  "cells": [
    {
      "cell_type": "markdown",
      "metadata": {
        "id": "view-in-github",
        "colab_type": "text"
      },
      "source": [
        "<a href=\"https://colab.research.google.com/github/MrHidr/AUT.CDM.matrix-accelerated-fpm/blob/main/Main.ipynb\" target=\"_parent\"><img src=\"https://colab.research.google.com/assets/colab-badge.svg\" alt=\"Open In Colab\"/></a>"
      ]
    },
    {
      "cell_type": "markdown",
      "source": [
        " >**Project\n",
        "information**  =>  **SN**: *404112060*  |  **SName**: *Mahdi Heydari*  |  CDM Course | Project 1 | Oct 2025"
      ],
      "metadata": {
        "id": "y2Jrwr3qGLR_"
      }
    },
    {
      "cell_type": "markdown",
      "source": [
        "# A Survey of Matrix Monitoring Methods for Accelerating Frequent Pattern Mining Algorithms | First project of Computational Data Mining Course\n",
        "\n",
        "## summary\n",
        "[[will be added]]"
      ],
      "metadata": {
        "id": "DuEmM4DcEpjR"
      }
    },
    {
      "cell_type": "markdown",
      "source": [],
      "metadata": {
        "id": "u94cQLZCHEay"
      }
    },
    {
      "cell_type": "markdown",
      "source": [
        "# Step1: Fetching & Cleaning Data"
      ],
      "metadata": {
        "id": "HKzNCrabEtHc"
      }
    },
    {
      "cell_type": "markdown",
      "source": [
        "### Installing Required Packages\n",
        "ucimlrepo package : fetching dataset from UCI (UC Irvine Machine Learning Repository)\n",
        "\n",
        "pandas : dataframe control\n"
      ],
      "metadata": {
        "id": "lxy4drrh74rb"
      }
    },
    {
      "cell_type": "code",
      "source": [
        "!pip install ucimlrepo"
      ],
      "metadata": {
        "colab": {
          "base_uri": "https://localhost:8080/"
        },
        "id": "rU4rwNlv74Ag",
        "outputId": "b9a5ca3f-5883-49b4-d5b3-c99fc67f4f79"
      },
      "execution_count": 1,
      "outputs": [
        {
          "output_type": "stream",
          "name": "stdout",
          "text": [
            "Collecting ucimlrepo\n",
            "  Downloading ucimlrepo-0.0.7-py3-none-any.whl.metadata (5.5 kB)\n",
            "Requirement already satisfied: pandas>=1.0.0 in /usr/local/lib/python3.12/dist-packages (from ucimlrepo) (2.2.2)\n",
            "Requirement already satisfied: certifi>=2020.12.5 in /usr/local/lib/python3.12/dist-packages (from ucimlrepo) (2025.10.5)\n",
            "Requirement already satisfied: numpy>=1.26.0 in /usr/local/lib/python3.12/dist-packages (from pandas>=1.0.0->ucimlrepo) (2.0.2)\n",
            "Requirement already satisfied: python-dateutil>=2.8.2 in /usr/local/lib/python3.12/dist-packages (from pandas>=1.0.0->ucimlrepo) (2.9.0.post0)\n",
            "Requirement already satisfied: pytz>=2020.1 in /usr/local/lib/python3.12/dist-packages (from pandas>=1.0.0->ucimlrepo) (2025.2)\n",
            "Requirement already satisfied: tzdata>=2022.7 in /usr/local/lib/python3.12/dist-packages (from pandas>=1.0.0->ucimlrepo) (2025.2)\n",
            "Requirement already satisfied: six>=1.5 in /usr/local/lib/python3.12/dist-packages (from python-dateutil>=2.8.2->pandas>=1.0.0->ucimlrepo) (1.17.0)\n",
            "Downloading ucimlrepo-0.0.7-py3-none-any.whl (8.0 kB)\n",
            "Installing collected packages: ucimlrepo\n",
            "Successfully installed ucimlrepo-0.0.7\n"
          ]
        }
      ]
    },
    {
      "cell_type": "code",
      "source": [
        "#importing packages\n",
        "from ucimlrepo import fetch_ucirepo\n",
        "import pandas as pd\n",
        "import numpy as np\n",
        "import time"
      ],
      "metadata": {
        "id": "wWcdHRk08M6y"
      },
      "execution_count": 2,
      "outputs": []
    },
    {
      "cell_type": "markdown",
      "source": [
        "### Fetching Online Retail Dataset from UCI\n",
        "Documentation of UCI repo : https://github.com/uci-ml-repo/ucimlrepo"
      ],
      "metadata": {
        "id": "msfqoL4m7Kps"
      }
    },
    {
      "cell_type": "code",
      "source": [
        "online_retail = fetch_ucirepo(id=352)"
      ],
      "metadata": {
        "id": "fVWfHnYI7HKV"
      },
      "execution_count": 3,
      "outputs": []
    },
    {
      "cell_type": "code",
      "source": [
        "# data (as pandas dataframes)\n",
        "X = online_retail.data.features\n",
        "I = online_retail.data.ids\n",
        "df = pd.concat([I, X], axis=1)\n",
        "print(\"fetched dataset 5 rows as sample:\\n\", df.head(5))\n",
        "print(\"\\n\",\"=\"*30,\"\\n\")\n",
        "df.info()\n",
        "print(\"dataset info:\\n\", df.describe())"
      ],
      "metadata": {
        "colab": {
          "base_uri": "https://localhost:8080/"
        },
        "id": "NXnj4anF8x3I",
        "outputId": "915f5551-2d4e-4886-e2c2-5b72c6039857"
      },
      "execution_count": 4,
      "outputs": [
        {
          "output_type": "stream",
          "name": "stdout",
          "text": [
            "fetched dataset 5 rows as sample:\n",
            "   InvoiceNo StockCode                          Description  Quantity  \\\n",
            "0    536365    85123A   WHITE HANGING HEART T-LIGHT HOLDER         6   \n",
            "1    536365     71053                  WHITE METAL LANTERN         6   \n",
            "2    536365    84406B       CREAM CUPID HEARTS COAT HANGER         8   \n",
            "3    536365    84029G  KNITTED UNION FLAG HOT WATER BOTTLE         6   \n",
            "4    536365    84029E       RED WOOLLY HOTTIE WHITE HEART.         6   \n",
            "\n",
            "      InvoiceDate  UnitPrice  CustomerID         Country  \n",
            "0  12/1/2010 8:26       2.55     17850.0  United Kingdom  \n",
            "1  12/1/2010 8:26       3.39     17850.0  United Kingdom  \n",
            "2  12/1/2010 8:26       2.75     17850.0  United Kingdom  \n",
            "3  12/1/2010 8:26       3.39     17850.0  United Kingdom  \n",
            "4  12/1/2010 8:26       3.39     17850.0  United Kingdom  \n",
            "\n",
            " ============================== \n",
            "\n",
            "<class 'pandas.core.frame.DataFrame'>\n",
            "RangeIndex: 541909 entries, 0 to 541908\n",
            "Data columns (total 8 columns):\n",
            " #   Column       Non-Null Count   Dtype  \n",
            "---  ------       --------------   -----  \n",
            " 0   InvoiceNo    541909 non-null  object \n",
            " 1   StockCode    541909 non-null  object \n",
            " 2   Description  540455 non-null  object \n",
            " 3   Quantity     541909 non-null  int64  \n",
            " 4   InvoiceDate  541909 non-null  object \n",
            " 5   UnitPrice    541909 non-null  float64\n",
            " 6   CustomerID   406829 non-null  float64\n",
            " 7   Country      541909 non-null  object \n",
            "dtypes: float64(2), int64(1), object(5)\n",
            "memory usage: 33.1+ MB\n",
            "dataset info:\n",
            "             Quantity      UnitPrice     CustomerID\n",
            "count  541909.000000  541909.000000  406829.000000\n",
            "mean        9.552250       4.611114   15287.690570\n",
            "std       218.081158      96.759853    1713.600303\n",
            "min    -80995.000000  -11062.060000   12346.000000\n",
            "25%         1.000000       1.250000   13953.000000\n",
            "50%         3.000000       2.080000   15152.000000\n",
            "75%        10.000000       4.130000   16791.000000\n",
            "max     80995.000000   38970.000000   18287.000000\n"
          ]
        }
      ]
    },
    {
      "cell_type": "code",
      "source": [
        "initial_rows = df.shape[0]\n",
        "print(\"Initial row count before any:\", initial_rows)"
      ],
      "metadata": {
        "colab": {
          "base_uri": "https://localhost:8080/"
        },
        "id": "Tq4tEovs9pXH",
        "outputId": "ca74e6ed-2151-49d3-8101-66dfb0b7dc4d"
      },
      "execution_count": 5,
      "outputs": [
        {
          "output_type": "stream",
          "name": "stdout",
          "text": [
            "Initial row count before any: 541909\n"
          ]
        }
      ]
    },
    {
      "cell_type": "code",
      "source": [
        "# Filter for rows where Quantity is 0\n",
        "zero_quantity_rows = df[df['Description'] == \"returned\"]\n",
        "\n",
        "# Display the 'Description' and other useful columns for these rows\n",
        "print(zero_quantity_rows[['Quantity', 'Description', 'UnitPrice', 'CustomerID']].head(77))"
      ],
      "metadata": {
        "colab": {
          "base_uri": "https://localhost:8080/"
        },
        "id": "SnkcsbIJos4D",
        "outputId": "05514b0d-38b0-4388-ee4b-4635cf685606"
      },
      "execution_count": 6,
      "outputs": [
        {
          "output_type": "stream",
          "name": "stdout",
          "text": [
            "        Quantity Description  UnitPrice  CustomerID\n",
            "166646         2    returned        0.0         NaN\n",
            "166647         2    returned        0.0         NaN\n"
          ]
        }
      ]
    },
    {
      "cell_type": "markdown",
      "source": [
        "### Cleaning Data; Removing Incomplete Records with Missing columns\n",
        "According to dataset info, Some rows has missing data on \"Description\" and/or \"CustomerID\" Columns, as first part of cleaning, we will delete these rows."
      ],
      "metadata": {
        "id": "9v9hssXkJ25G"
      }
    },
    {
      "cell_type": "code",
      "source": [
        "df_cleaned = df.dropna(subset=['CustomerID', 'Description'])\n",
        "rows_removed = initial_rows - df_cleaned.shape[0]"
      ],
      "metadata": {
        "id": "FrJYKBhgJcUg"
      },
      "execution_count": 7,
      "outputs": []
    },
    {
      "cell_type": "code",
      "source": [
        "output_rows_count = df_cleaned.shape[0]\n",
        "print(\"row count after removing rows: \", output_rows_count)\n",
        "print(\"removed row count: \", initial_rows - output_rows_count)"
      ],
      "metadata": {
        "colab": {
          "base_uri": "https://localhost:8080/"
        },
        "id": "zUqAaAA1LKoc",
        "outputId": "1c0ef8b2-3b84-4c04-de98-7bbbaf9891c7"
      },
      "execution_count": 8,
      "outputs": [
        {
          "output_type": "stream",
          "name": "stdout",
          "text": [
            "row count after removing rows:  406829\n",
            "removed row count:  135080\n"
          ]
        }
      ]
    },
    {
      "cell_type": "markdown",
      "source": [
        "we had 4068290 rows with no CustomerID, which is equal to our rows after removing rows with no CustomerID and/or no Description so as result it means if a row has no Description it will have no CustomerID too."
      ],
      "metadata": {
        "id": "UohjZof_iR9C"
      }
    },
    {
      "cell_type": "markdown",
      "source": [
        "###Cleaning Data; Negetive Values (& Returned Invoices)\n",
        "While min value of 'Quantity' and 'UnitPrice' are -80995.000000 and -11062.060000, we have rows with negetive quantity and price which make these rows are invalid.\n",
        "as mentioned in brief we should remove return invoices too, which is covered by removing rows with negetive \"Quantity\" and as more overthinking, in think of deleting متناظر negetive quantities, the goal of Not loosing data of selected baskets and not being a financial prefossional we just remove negetive baskets."
      ],
      "metadata": {
        "id": "YUIxsOsXjh_a"
      }
    },
    {
      "cell_type": "code",
      "source": [
        "df_cleaned = df_cleaned[df_cleaned['Quantity'] > 0]\n",
        "df_cleaned = df_cleaned[df_cleaned['UnitPrice'] >= 0]"
      ],
      "metadata": {
        "id": "HD_TbDfehvFY"
      },
      "execution_count": 9,
      "outputs": []
    },
    {
      "cell_type": "code",
      "source": [
        "cleaned_rows_count = df_cleaned.shape[0]\n",
        "print(\"row count after removing rows with neg values: \", cleaned_rows_count)\n",
        "print(\"removed row count (Neg Price and/or Neg Quantity): \", output_rows_count - cleaned_rows_count)"
      ],
      "metadata": {
        "colab": {
          "base_uri": "https://localhost:8080/"
        },
        "id": "-1bnDzZRjAhc",
        "outputId": "d5796753-6d90-491e-f321-b238a99dce43"
      },
      "execution_count": 10,
      "outputs": [
        {
          "output_type": "stream",
          "name": "stdout",
          "text": [
            "row count after removing rows with neg values:  397924\n",
            "removed row count (Neg Price and/or Neg Quantity):  8905\n"
          ]
        }
      ]
    },
    {
      "cell_type": "code",
      "source": [],
      "metadata": {
        "id": "LyHNikfjkoBW"
      },
      "execution_count": 10,
      "outputs": []
    },
    {
      "cell_type": "markdown",
      "source": [
        "# Step2: Item-Transaction Matrix"
      ],
      "metadata": {
        "id": "2tKxGlT0vkNI"
      }
    },
    {
      "cell_type": "markdown",
      "source": [
        "## Count Matrix\n",
        "(rows='InvoiceNo',columns='StockCode count')"
      ],
      "metadata": {
        "id": "D-rDNF402p9l"
      }
    },
    {
      "cell_type": "code",
      "source": [
        "count_matrix = df_cleaned.pivot_table(index='InvoiceNo',\n",
        "                                      columns='StockCode',\n",
        "                                      aggfunc='size' ,\n",
        "                                      fill_value=0)"
      ],
      "metadata": {
        "id": "lBgGvMQkvsuo"
      },
      "execution_count": 11,
      "outputs": []
    },
    {
      "cell_type": "code",
      "source": [
        "print(count_matrix.head(10))\n",
        "print(\"=\"*30)\n",
        "print(\"number of unique InvoiceNo: \", count_matrix.shape[0] ,\"\\nnumber of unique StockCode\", count_matrix.shape[1])"
      ],
      "metadata": {
        "colab": {
          "base_uri": "https://localhost:8080/"
        },
        "id": "dSEWQhMCwM5S",
        "outputId": "355596bc-0134-46c8-a6f1-559c9ab2543f"
      },
      "execution_count": 12,
      "outputs": [
        {
          "output_type": "stream",
          "name": "stdout",
          "text": [
            "StockCode  10002  10080  10120  10123C  10124A  10124G  10125  10133  10135  \\\n",
            "InvoiceNo                                                                     \n",
            "536365         0      0      0       0       0       0      0      0      0   \n",
            "536366         0      0      0       0       0       0      0      0      0   \n",
            "536367         0      0      0       0       0       0      0      0      0   \n",
            "536368         0      0      0       0       0       0      0      0      0   \n",
            "536369         0      0      0       0       0       0      0      0      0   \n",
            "536370         1      0      0       0       0       0      0      0      0   \n",
            "536371         0      0      0       0       0       0      0      0      0   \n",
            "536372         0      0      0       0       0       0      0      0      0   \n",
            "536373         0      0      0       0       0       0      0      0      0   \n",
            "536374         0      0      0       0       0       0      0      0      0   \n",
            "\n",
            "StockCode  11001  ...  90214V  90214W  90214Y  90214Z  BANK CHARGES  C2  DOT  \\\n",
            "InvoiceNo         ...                                                          \n",
            "536365         0  ...       0       0       0       0             0   0    0   \n",
            "536366         0  ...       0       0       0       0             0   0    0   \n",
            "536367         0  ...       0       0       0       0             0   0    0   \n",
            "536368         0  ...       0       0       0       0             0   0    0   \n",
            "536369         0  ...       0       0       0       0             0   0    0   \n",
            "536370         0  ...       0       0       0       0             0   0    0   \n",
            "536371         0  ...       0       0       0       0             0   0    0   \n",
            "536372         0  ...       0       0       0       0             0   0    0   \n",
            "536373         0  ...       0       0       0       0             0   0    0   \n",
            "536374         0  ...       0       0       0       0             0   0    0   \n",
            "\n",
            "StockCode  M  PADS  POST  \n",
            "InvoiceNo                 \n",
            "536365     0     0     0  \n",
            "536366     0     0     0  \n",
            "536367     0     0     0  \n",
            "536368     0     0     0  \n",
            "536369     0     0     0  \n",
            "536370     0     0     1  \n",
            "536371     0     0     0  \n",
            "536372     0     0     0  \n",
            "536373     0     0     0  \n",
            "536374     0     0     0  \n",
            "\n",
            "[10 rows x 3665 columns]\n",
            "==============================\n",
            "number of unique InvoiceNo:  18536 \n",
            "number of unique StockCode 3665\n"
          ]
        }
      ]
    },
    {
      "cell_type": "markdown",
      "source": [
        "## Binary Matrix"
      ],
      "metadata": {
        "id": "DCz9ROMJ2nn7"
      }
    },
    {
      "cell_type": "code",
      "source": [
        "binary_matrix = (count_matrix > 0).astype(int)\n",
        "print(binary_matrix.head(10))"
      ],
      "metadata": {
        "colab": {
          "base_uri": "https://localhost:8080/"
        },
        "id": "84zSmYlg2mtR",
        "outputId": "d9746cdd-f79e-4237-9fe0-184801ccc451"
      },
      "execution_count": 13,
      "outputs": [
        {
          "output_type": "stream",
          "name": "stdout",
          "text": [
            "StockCode  10002  10080  10120  10123C  10124A  10124G  10125  10133  10135  \\\n",
            "InvoiceNo                                                                     \n",
            "536365         0      0      0       0       0       0      0      0      0   \n",
            "536366         0      0      0       0       0       0      0      0      0   \n",
            "536367         0      0      0       0       0       0      0      0      0   \n",
            "536368         0      0      0       0       0       0      0      0      0   \n",
            "536369         0      0      0       0       0       0      0      0      0   \n",
            "536370         1      0      0       0       0       0      0      0      0   \n",
            "536371         0      0      0       0       0       0      0      0      0   \n",
            "536372         0      0      0       0       0       0      0      0      0   \n",
            "536373         0      0      0       0       0       0      0      0      0   \n",
            "536374         0      0      0       0       0       0      0      0      0   \n",
            "\n",
            "StockCode  11001  ...  90214V  90214W  90214Y  90214Z  BANK CHARGES  C2  DOT  \\\n",
            "InvoiceNo         ...                                                          \n",
            "536365         0  ...       0       0       0       0             0   0    0   \n",
            "536366         0  ...       0       0       0       0             0   0    0   \n",
            "536367         0  ...       0       0       0       0             0   0    0   \n",
            "536368         0  ...       0       0       0       0             0   0    0   \n",
            "536369         0  ...       0       0       0       0             0   0    0   \n",
            "536370         0  ...       0       0       0       0             0   0    0   \n",
            "536371         0  ...       0       0       0       0             0   0    0   \n",
            "536372         0  ...       0       0       0       0             0   0    0   \n",
            "536373         0  ...       0       0       0       0             0   0    0   \n",
            "536374         0  ...       0       0       0       0             0   0    0   \n",
            "\n",
            "StockCode  M  PADS  POST  \n",
            "InvoiceNo                 \n",
            "536365     0     0     0  \n",
            "536366     0     0     0  \n",
            "536367     0     0     0  \n",
            "536368     0     0     0  \n",
            "536369     0     0     0  \n",
            "536370     0     0     1  \n",
            "536371     0     0     0  \n",
            "536372     0     0     0  \n",
            "536373     0     0     0  \n",
            "536374     0     0     0  \n",
            "\n",
            "[10 rows x 3665 columns]\n"
          ]
        }
      ]
    },
    {
      "cell_type": "markdown",
      "source": [
        "as we see each row stands for one InvoiceNo and each column show apearance of stock in InvoiceNo (Basket)."
      ],
      "metadata": {
        "id": "ZNJZ7GPl0EAG"
      }
    },
    {
      "cell_type": "code",
      "source": [
        "#accessing row data by InvoiceID"
      ],
      "metadata": {
        "id": "6yr2xFIAyWWA"
      },
      "execution_count": 14,
      "outputs": []
    },
    {
      "cell_type": "markdown",
      "source": [
        "# Step3: Streaming Simulation"
      ],
      "metadata": {
        "id": "zh8WL75H2cq5"
      }
    },
    {
      "cell_type": "markdown",
      "source": [
        "## InvoiceDate convert to datetime objects"
      ],
      "metadata": {
        "id": "m2mM61tDBmUV"
      }
    },
    {
      "cell_type": "code",
      "source": [
        "import pandas as pd\n",
        "import numpy as np\n",
        "print(df_cleaned['InvoiceDate'])\n",
        "df_cleaned['InvoiceDate'] = pd.to_datetime(df_cleaned['InvoiceDate'])\n",
        "print(df_cleaned['InvoiceDate'])\n"
      ],
      "metadata": {
        "id": "LnndZfx41YId",
        "colab": {
          "base_uri": "https://localhost:8080/"
        },
        "outputId": "9b5df2f5-b9ca-4ec3-e6ea-0c77d9f68a9e"
      },
      "execution_count": 15,
      "outputs": [
        {
          "output_type": "stream",
          "name": "stdout",
          "text": [
            "0          12/1/2010 8:26\n",
            "1          12/1/2010 8:26\n",
            "2          12/1/2010 8:26\n",
            "3          12/1/2010 8:26\n",
            "4          12/1/2010 8:26\n",
            "               ...       \n",
            "541904    12/9/2011 12:50\n",
            "541905    12/9/2011 12:50\n",
            "541906    12/9/2011 12:50\n",
            "541907    12/9/2011 12:50\n",
            "541908    12/9/2011 12:50\n",
            "Name: InvoiceDate, Length: 397924, dtype: object\n",
            "0        2010-12-01 08:26:00\n",
            "1        2010-12-01 08:26:00\n",
            "2        2010-12-01 08:26:00\n",
            "3        2010-12-01 08:26:00\n",
            "4        2010-12-01 08:26:00\n",
            "                 ...        \n",
            "541904   2011-12-09 12:50:00\n",
            "541905   2011-12-09 12:50:00\n",
            "541906   2011-12-09 12:50:00\n",
            "541907   2011-12-09 12:50:00\n",
            "541908   2011-12-09 12:50:00\n",
            "Name: InvoiceDate, Length: 397924, dtype: datetime64[ns]\n"
          ]
        }
      ]
    },
    {
      "cell_type": "markdown",
      "source": [
        "## Deviding Batches"
      ],
      "metadata": {
        "id": "7m2JdQKtBe7X"
      }
    },
    {
      "cell_type": "code",
      "source": [
        "\n",
        "sorted_invoice_index = df_cleaned.groupby('InvoiceNo')['InvoiceDate'].min().sort_values().index\n",
        "\n",
        "# 2. Re-order the main matrix based on the sorted invoice index\n",
        "sorted_matrix = binary_matrix.loc[sorted_invoice_index]\n",
        "\n",
        "# 3. Split the sorted matrix into 10 sequential batches\n",
        "N_BATCHES = 10\n",
        "data_stream_batches = np.array_split(sorted_matrix, N_BATCHES)\n",
        "\n",
        "print(f\"Data stream created with {len(data_stream_batches)} batches.\")"
      ],
      "metadata": {
        "colab": {
          "base_uri": "https://localhost:8080/"
        },
        "id": "xbwxQBu9_sVF",
        "outputId": "2e3f52d4-182e-4a91-ee1f-ec7d63f4d265"
      },
      "execution_count": 16,
      "outputs": [
        {
          "output_type": "stream",
          "name": "stderr",
          "text": [
            "/usr/local/lib/python3.12/dist-packages/numpy/_core/fromnumeric.py:57: FutureWarning: 'DataFrame.swapaxes' is deprecated and will be removed in a future version. Please use 'DataFrame.transpose' instead.\n",
            "  return bound(*args, **kwds)\n"
          ]
        },
        {
          "output_type": "stream",
          "name": "stdout",
          "text": [
            "Data stream created with 10 batches.\n"
          ]
        }
      ]
    },
    {
      "cell_type": "markdown",
      "source": [
        "## Batches info\n"
      ],
      "metadata": {
        "id": "IDN4oMnVBtKY"
      }
    },
    {
      "cell_type": "code",
      "source": [
        "for i, batch_df in enumerate(data_stream_batches):\n",
        "\n",
        "    # Get the list of InvoiceNo's for this batch (they are the index)\n",
        "    batch_invoice_ids = batch_df.index\n",
        "\n",
        "    # Filter df_cleaned to get all dates for just those invoices\n",
        "    # .isin() is fast for this\n",
        "    relevant_dates = df_cleaned[df_cleaned['InvoiceNo'].isin(batch_invoice_ids)]['InvoiceDate']\n",
        "\n",
        "    print(f\"\\n--- Batch {i+1} ---\")\n",
        "    print(f\"  Shape (Invoices, Items): {batch_df.shape}\")\n",
        "    print(f\"  Start Date: {relevant_dates.min().strftime('%Y-%m-%d')}\")\n",
        "    print(f\"  End Date:   {relevant_dates.max().strftime('%Y-%m-%d')}\")"
      ],
      "metadata": {
        "colab": {
          "base_uri": "https://localhost:8080/"
        },
        "id": "b_T9sYKcAREq",
        "outputId": "e785345d-5cf1-4478-8db0-580a8733e4a2"
      },
      "execution_count": 17,
      "outputs": [
        {
          "output_type": "stream",
          "name": "stdout",
          "text": [
            "\n",
            "--- Batch 1 ---\n",
            "  Shape (Invoices, Items): (1854, 3665)\n",
            "  Start Date: 2010-12-01\n",
            "  End Date:   2011-01-16\n",
            "\n",
            "--- Batch 2 ---\n",
            "  Shape (Invoices, Items): (1854, 3665)\n",
            "  Start Date: 2011-01-16\n",
            "  End Date:   2011-03-09\n",
            "\n",
            "--- Batch 3 ---\n",
            "  Shape (Invoices, Items): (1854, 3665)\n",
            "  Start Date: 2011-03-09\n",
            "  End Date:   2011-04-20\n",
            "\n",
            "--- Batch 4 ---\n",
            "  Shape (Invoices, Items): (1854, 3665)\n",
            "  Start Date: 2011-04-20\n",
            "  End Date:   2011-06-01\n",
            "\n",
            "--- Batch 5 ---\n",
            "  Shape (Invoices, Items): (1854, 3665)\n",
            "  Start Date: 2011-06-01\n",
            "  End Date:   2011-07-12\n",
            "\n",
            "--- Batch 6 ---\n",
            "  Shape (Invoices, Items): (1854, 3665)\n",
            "  Start Date: 2011-07-12\n",
            "  End Date:   2011-08-23\n",
            "\n",
            "--- Batch 7 ---\n",
            "  Shape (Invoices, Items): (1853, 3665)\n",
            "  Start Date: 2011-08-24\n",
            "  End Date:   2011-09-28\n",
            "\n",
            "--- Batch 8 ---\n",
            "  Shape (Invoices, Items): (1853, 3665)\n",
            "  Start Date: 2011-09-28\n",
            "  End Date:   2011-10-27\n",
            "\n",
            "--- Batch 9 ---\n",
            "  Shape (Invoices, Items): (1853, 3665)\n",
            "  Start Date: 2011-10-27\n",
            "  End Date:   2011-11-18\n",
            "\n",
            "--- Batch 10 ---\n",
            "  Shape (Invoices, Items): (1853, 3665)\n",
            "  Start Date: 2011-11-18\n",
            "  End Date:   2011-12-09\n"
          ]
        }
      ]
    },
    {
      "cell_type": "markdown",
      "source": [
        "# Step4: Matrix Sketching Algorithms\n",
        "[[summary of Sketching Goals and reasons]]"
      ],
      "metadata": {
        "id": "MF579wOcHH5h"
      }
    },
    {
      "cell_type": "markdown",
      "source": [
        "## Gaussian Random Projection"
      ],
      "metadata": {
        "id": "zrsASrCRG_o7"
      }
    },
    {
      "cell_type": "code",
      "source": [
        "k=100\n",
        "n, d = data_stream_batches[0].shape\n",
        "print(n,d)\n",
        "R = np.random.normal(0, 1.0/np.sqrt(k), (d, k))\n",
        "print(R)\n"
      ],
      "metadata": {
        "colab": {
          "base_uri": "https://localhost:8080/"
        },
        "id": "v-fAyfJ9G-Jt",
        "outputId": "87e49148-65c1-461e-f720-b4bc70f871e2"
      },
      "execution_count": 21,
      "outputs": [
        {
          "output_type": "stream",
          "name": "stdout",
          "text": [
            "1854 3665\n",
            "[[ 0.22935182 -0.12962995 -0.04734972 ... -0.15989214 -0.07461096\n",
            "  -0.04932404]\n",
            " [-0.0771588   0.19788638  0.0772105  ...  0.16387545 -0.05788329\n",
            "   0.05666053]\n",
            " [ 0.00375485 -0.0758355   0.05552546 ... -0.08199971 -0.04247693\n",
            "  -0.02314888]\n",
            " ...\n",
            " [-0.03818312 -0.00679523 -0.10780094 ... -0.01733498 -0.04592168\n",
            "   0.13136703]\n",
            " [-0.26838785  0.08860183 -0.01706817 ...  0.0070579   0.06490605\n",
            "  -0.07663125]\n",
            " [ 0.02486878  0.0133225  -0.16050816 ... -0.14855204 -0.21476544\n",
            "   0.10249637]]\n"
          ]
        }
      ]
    },
    {
      "cell_type": "code",
      "source": [
        "grp_batch_sketches = []\n",
        "grp_time_records = []"
      ],
      "metadata": {
        "id": "qV8CMN1kH3DH"
      },
      "execution_count": 25,
      "outputs": []
    },
    {
      "cell_type": "code",
      "source": [
        "start_total_time = time.time()\n",
        "\n",
        "for batch_df in data_stream_batches:\n",
        "\n",
        "    A_batch = batch_df.values\n",
        "\n",
        "    batch_start_time = time.time()\n",
        "\n",
        "    B_sketch = A_batch @ R\n",
        "\n",
        "    batch_end_time = time.time()\n",
        "\n",
        "    grp_batch_sketches.append(B_sketch)\n",
        "    grp_time_records.append(batch_end_time - batch_start_time)\n",
        "\n",
        "end_total_time = time.time()\n",
        "\n",
        "print(\"Whole process took:\", end_total_time - start_total_time, \"seconds\")\n",
        "print(\"Average time per batch:\", np.mean(grp_time_records), \"seconds\")\n",
        "print(\"max time per batch:\", np.max(grp_time_records), \"seconds\")\n",
        "print(\"min time per batch:\", np.min(grp_time_records), \"seconds\")"
      ],
      "metadata": {
        "colab": {
          "base_uri": "https://localhost:8080/"
        },
        "id": "CRBjK2q-IXcf",
        "outputId": "18f42fd5-cb3f-41af-e2c4-c5f29a2b19a6"
      },
      "execution_count": 32,
      "outputs": [
        {
          "output_type": "stream",
          "name": "stdout",
          "text": [
            "Whole process took: 1.1718463897705078 seconds\n",
            "Average time per batch: 0.12589367628097534 seconds\n",
            "max time per batch: 0.23077917098999023 seconds\n",
            "min time per batch: 0.08906221389770508 seconds\n"
          ]
        }
      ]
    },
    {
      "cell_type": "code",
      "source": [],
      "metadata": {
        "id": "hWK9mHWlI4Ps"
      },
      "execution_count": null,
      "outputs": []
    }
  ]
}