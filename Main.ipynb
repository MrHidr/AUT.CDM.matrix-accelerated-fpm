{
  "nbformat": 4,
  "nbformat_minor": 0,
  "metadata": {
    "colab": {
      "provenance": [],
      "mount_file_id": "1S8IGMmvGQ87fjGBqGpZR3MROWewDWuZX",
      "authorship_tag": "ABX9TyPT/FoYPWjFfWf/5IbgYUu2",
      "include_colab_link": true
    },
    "kernelspec": {
      "name": "python3",
      "display_name": "Python 3"
    },
    "language_info": {
      "name": "python"
    }
  },
  "cells": [
    {
      "cell_type": "markdown",
      "metadata": {
        "id": "view-in-github",
        "colab_type": "text"
      },
      "source": [
        "<a href=\"https://colab.research.google.com/github/MrHidr/AUT.CDM.matrix-accelerated-fpm/blob/main/Main.ipynb\" target=\"_parent\"><img src=\"https://colab.research.google.com/assets/colab-badge.svg\" alt=\"Open In Colab\"/></a>"
      ]
    },
    {
      "cell_type": "markdown",
      "source": [
        "#Packages ( Data Fetching & Cleaning )\n",
        "ucimlrepo package : fetching dataset from UCI (UC Irvine Machine Learning Repository)\n"
      ],
      "metadata": {
        "id": "lxy4drrh74rb"
      }
    },
    {
      "cell_type": "code",
      "source": [
        "!pip install ucimlrepo"
      ],
      "metadata": {
        "colab": {
          "base_uri": "https://localhost:8080/"
        },
        "id": "rU4rwNlv74Ag",
        "outputId": "b3e0cf0a-ad66-487f-bb81-70254fc50b33"
      },
      "execution_count": 7,
      "outputs": [
        {
          "output_type": "stream",
          "name": "stdout",
          "text": [
            "Requirement already satisfied: ucimlrepo in /usr/local/lib/python3.12/dist-packages (0.0.7)\n",
            "Requirement already satisfied: pandas>=1.0.0 in /usr/local/lib/python3.12/dist-packages (from ucimlrepo) (2.2.2)\n",
            "Requirement already satisfied: certifi>=2020.12.5 in /usr/local/lib/python3.12/dist-packages (from ucimlrepo) (2025.10.5)\n",
            "Requirement already satisfied: numpy>=1.26.0 in /usr/local/lib/python3.12/dist-packages (from pandas>=1.0.0->ucimlrepo) (2.0.2)\n",
            "Requirement already satisfied: python-dateutil>=2.8.2 in /usr/local/lib/python3.12/dist-packages (from pandas>=1.0.0->ucimlrepo) (2.9.0.post0)\n",
            "Requirement already satisfied: pytz>=2020.1 in /usr/local/lib/python3.12/dist-packages (from pandas>=1.0.0->ucimlrepo) (2025.2)\n",
            "Requirement already satisfied: tzdata>=2022.7 in /usr/local/lib/python3.12/dist-packages (from pandas>=1.0.0->ucimlrepo) (2025.2)\n",
            "Requirement already satisfied: six>=1.5 in /usr/local/lib/python3.12/dist-packages (from python-dateutil>=2.8.2->pandas>=1.0.0->ucimlrepo) (1.17.0)\n"
          ]
        }
      ]
    },
    {
      "cell_type": "code",
      "source": [
        "#importing packages\n",
        "from ucimlrepo import fetch_ucirepo"
      ],
      "metadata": {
        "id": "wWcdHRk08M6y"
      },
      "execution_count": 8,
      "outputs": []
    },
    {
      "cell_type": "markdown",
      "source": [
        "## Fetching Online Retail Dataset from UCI\n",
        "Documentation of UCI repo : https://github.com/uci-ml-repo/ucimlrepo"
      ],
      "metadata": {
        "id": "msfqoL4m7Kps"
      }
    },
    {
      "cell_type": "code",
      "source": [
        "online_retail = fetch_ucirepo(id=352)"
      ],
      "metadata": {
        "id": "fVWfHnYI7HKV"
      },
      "execution_count": 9,
      "outputs": []
    },
    {
      "cell_type": "code",
      "source": [
        "# data (as pandas dataframes)\n",
        "X = online_retail.data.features\n",
        "df = X.copy()\n",
        "print(\"fetched dataset 5 samples:\\n\", df.head(5))\n",
        "print(\"=\"*30)\n",
        "print(\"dataset info:\\n\", df.describe)"
      ],
      "metadata": {
        "colab": {
          "base_uri": "https://localhost:8080/"
        },
        "id": "NXnj4anF8x3I",
        "outputId": "dd73a917-89a2-45a0-e19e-fe933e677e51"
      },
      "execution_count": 20,
      "outputs": [
        {
          "output_type": "stream",
          "name": "stdout",
          "text": [
            "fetched dataset 5 samples:\n",
            "                            Description  Quantity     InvoiceDate  UnitPrice  \\\n",
            "0   WHITE HANGING HEART T-LIGHT HOLDER         6  12/1/2010 8:26       2.55   \n",
            "1                  WHITE METAL LANTERN         6  12/1/2010 8:26       3.39   \n",
            "2       CREAM CUPID HEARTS COAT HANGER         8  12/1/2010 8:26       2.75   \n",
            "3  KNITTED UNION FLAG HOT WATER BOTTLE         6  12/1/2010 8:26       3.39   \n",
            "4       RED WOOLLY HOTTIE WHITE HEART.         6  12/1/2010 8:26       3.39   \n",
            "\n",
            "   CustomerID         Country  \n",
            "0     17850.0  United Kingdom  \n",
            "1     17850.0  United Kingdom  \n",
            "2     17850.0  United Kingdom  \n",
            "3     17850.0  United Kingdom  \n",
            "4     17850.0  United Kingdom  \n",
            "==============================\n",
            "dataset info:\n",
            " <bound method NDFrame.describe of                                 Description  Quantity      InvoiceDate  \\\n",
            "0        WHITE HANGING HEART T-LIGHT HOLDER         6   12/1/2010 8:26   \n",
            "1                       WHITE METAL LANTERN         6   12/1/2010 8:26   \n",
            "2            CREAM CUPID HEARTS COAT HANGER         8   12/1/2010 8:26   \n",
            "3       KNITTED UNION FLAG HOT WATER BOTTLE         6   12/1/2010 8:26   \n",
            "4            RED WOOLLY HOTTIE WHITE HEART.         6   12/1/2010 8:26   \n",
            "...                                     ...       ...              ...   \n",
            "541904          PACK OF 20 SPACEBOY NAPKINS        12  12/9/2011 12:50   \n",
            "541905         CHILDREN'S APRON DOLLY GIRL          6  12/9/2011 12:50   \n",
            "541906        CHILDRENS CUTLERY DOLLY GIRL          4  12/9/2011 12:50   \n",
            "541907      CHILDRENS CUTLERY CIRCUS PARADE         4  12/9/2011 12:50   \n",
            "541908        BAKING SET 9 PIECE RETROSPOT          3  12/9/2011 12:50   \n",
            "\n",
            "        UnitPrice  CustomerID         Country  \n",
            "0            2.55     17850.0  United Kingdom  \n",
            "1            3.39     17850.0  United Kingdom  \n",
            "2            2.75     17850.0  United Kingdom  \n",
            "3            3.39     17850.0  United Kingdom  \n",
            "4            3.39     17850.0  United Kingdom  \n",
            "...           ...         ...             ...  \n",
            "541904       0.85     12680.0          France  \n",
            "541905       2.10     12680.0          France  \n",
            "541906       4.15     12680.0          France  \n",
            "541907       4.15     12680.0          France  \n",
            "541908       4.95     12680.0          France  \n",
            "\n",
            "[541909 rows x 6 columns]>\n"
          ]
        }
      ]
    },
    {
      "cell_type": "code",
      "source": [],
      "metadata": {
        "id": "Tq4tEovs9pXH"
      },
      "execution_count": null,
      "outputs": []
    }
  ]
}